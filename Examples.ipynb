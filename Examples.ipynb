{
 "cells": [
  {
   "cell_type": "markdown",
   "metadata": {},
   "source": [
    "# 1. Capital Gains Tracker\n",
    "The `CapGainsTracker` processes buy and sell trades in chronological order.  It calculates capital gains in accordance with 2025 IRS rules on:\n",
    "1. **Term:** Whether a gain is Short-Term (ST, taxed as income) or Long-Term (LT, held for more than 1 year and taxed at lower capital-gain rates).\n",
    "2. **Wash sales:** When a capital loss is realized, it can be \"washed\" by \"replacement\" trades made in the same asset within 30 days before or after realization.  When washed, a loss can't be immediately claimed for tax purposes and must instead be added to the basis of the replacement shares.\n",
    "\n",
    "*Limitations:*\n",
    "1. This is done to the best of our ability to understand/interpret [IRS Publication 550](https://www.irs.gov/pub/irs-pdf/p550.pdf).\n",
    "1. This does not handle accounting of derivatives.\n",
    "2. This does not look for, or account for, \"substantially identical\" assets.  If you enter trades for asset `XYZ`, and also for `XYZ.B`, it treats them as separate even if the IRS would consider them \"substantially identical.\""
   ]
  },
  {
   "cell_type": "code",
   "execution_count": 1,
   "metadata": {},
   "outputs": [],
   "source": [
    "import pandas as pd\n",
    "from tax_tracker import CapGainsTracker"
   ]
  },
  {
   "cell_type": "markdown",
   "metadata": {},
   "source": [
    "## Example 1.1\n",
    "A series of trades for shares of hypothetical asset `ABC` that illustrate how losses are washed by replacement trades made both before and after the loss is realized.  Prices and dates are made up for this example.\n",
    "\n",
    "We'll begin by buying 10 shares, then selling 5 of them at a price $1/share lower, which gives us a Short-Term capital loss of $5 and leaves an open position of 5 shares."
   ]
  },
  {
   "cell_type": "code",
   "execution_count": 2,
   "metadata": {},
   "outputs": [
    {
     "data": {
      "text/html": [
       "<div>\n",
       "<style scoped>\n",
       "    .dataframe tbody tr th:only-of-type {\n",
       "        vertical-align: middle;\n",
       "    }\n",
       "\n",
       "    .dataframe tbody tr th {\n",
       "        vertical-align: top;\n",
       "    }\n",
       "\n",
       "    .dataframe thead th {\n",
       "        text-align: right;\n",
       "    }\n",
       "</style>\n",
       "<table border=\"1\" class=\"dataframe\">\n",
       "  <thead>\n",
       "    <tr style=\"text-align: right;\">\n",
       "      <th></th>\n",
       "      <th>ShortTerm</th>\n",
       "      <th>LongTerm</th>\n",
       "    </tr>\n",
       "  </thead>\n",
       "  <tbody>\n",
       "    <tr>\n",
       "      <th>2022-01-06</th>\n",
       "      <td>-5.0</td>\n",
       "      <td>0</td>\n",
       "    </tr>\n",
       "  </tbody>\n",
       "</table>\n",
       "</div>"
      ],
      "text/plain": [
       "            ShortTerm  LongTerm\n",
       "2022-01-06       -5.0         0"
      ]
     },
     "metadata": {},
     "output_type": "display_data"
    },
    {
     "name": "stdout",
     "output_type": "stream",
     "text": [
      "Closed position:\n",
      "ABC: 2022-01-05 5 @ $10.00 >> 2022-01-06 -5 @ $9.00 = $-5.00 ST (1 day)\n",
      "\n",
      "Open position:\n",
      "ABC: 5 @ $10.00 (2022-01-05) \n"
     ]
    }
   ],
   "source": [
    "tracker = CapGainsTracker()\n",
    "# Buy 10 shares of ABC at $10\n",
    "start_date = pd.Timestamp('2022-01-05')\n",
    "tracker.trade(start_date, 'ABC', shares=10, price=10)\n",
    "# Sell 5 shares of ABC at $9, realizing capital loss of $1/share\n",
    "sell_date = start_date + pd.Timedelta(days=1)\n",
    "tracker.trade(sell_date, 'ABC', -5, price=9)\n",
    "assert tracker.capital_gains[sell_date]['ShortTerm'] == -5.0, \"Realized -$5 ST gain\"\n",
    "display(tracker.capital_gains_df)\n",
    "print(\"Closed position:\\n\"+tracker.closed_lots_str)\n",
    "print(\"\\nOpen position:\\n\"+tracker.open_lots_str)"
   ]
  },
  {
   "cell_type": "markdown",
   "metadata": {},
   "source": [
    "Now the madness begins.  Within 30 days of that loss sale we buy back 5 shares, which washes the loss: It will no longer appear in the Capital Gains ledger, and instead the loss will be added to the basis of the \"replacement\" shares we bought."
   ]
  },
  {
   "cell_type": "code",
   "execution_count": 3,
   "metadata": {},
   "outputs": [
    {
     "data": {
      "text/html": [
       "<div>\n",
       "<style scoped>\n",
       "    .dataframe tbody tr th:only-of-type {\n",
       "        vertical-align: middle;\n",
       "    }\n",
       "\n",
       "    .dataframe tbody tr th {\n",
       "        vertical-align: top;\n",
       "    }\n",
       "\n",
       "    .dataframe thead th {\n",
       "        text-align: right;\n",
       "    }\n",
       "</style>\n",
       "<table border=\"1\" class=\"dataframe\">\n",
       "  <thead>\n",
       "    <tr style=\"text-align: right;\">\n",
       "      <th></th>\n",
       "      <th>ShortTerm</th>\n",
       "      <th>LongTerm</th>\n",
       "    </tr>\n",
       "  </thead>\n",
       "  <tbody>\n",
       "    <tr>\n",
       "      <th>2022-01-06</th>\n",
       "      <td>0.0</td>\n",
       "      <td>0</td>\n",
       "    </tr>\n",
       "  </tbody>\n",
       "</table>\n",
       "</div>"
      ],
      "text/plain": [
       "            ShortTerm  LongTerm\n",
       "2022-01-06        0.0         0"
      ]
     },
     "metadata": {},
     "output_type": "display_data"
    },
    {
     "name": "stdout",
     "output_type": "stream",
     "text": [
      "Wash sales:\n",
      "ABC: 2022-01-05 5 @ $10.00 >> 2022-01-06 -5 @ $9.00 = $-5.00 ST (1 day) washed on 2022-01-31\n",
      "\n",
      "Open positions after repurchase on 2022-01-31:\n",
      "ABC: 5 @ $10.00 (2022-01-05) \n",
      "ABC: 5 @ $10.00 (2022-01-31)  Basis $-5.00 term+1 day\n"
     ]
    }
   ],
   "source": [
    "# Buy 5 shares of ABC within 30 days to trigger wash of the Short Term loss\n",
    "buy_back_date = sell_date + pd.Timedelta(days=25)\n",
    "tracker.buy(buy_back_date, 'ABC', shares=5, price=10)\n",
    "\n",
    "# Show how this changed our accounting\n",
    "display(tracker.capital_gains_df)\n",
    "assert tracker.capital_gains[sell_date]['ShortTerm'] == 0, \"Capital loss washed\"\n",
    "# We can check the list of wash sales\n",
    "print(\"Wash sales:\\n\"+tracker.washed_lots_str)\n",
    "wash_sale = tracker.wash_trades[0]\n",
    "assert wash_sale.washed_quantity == 5, \"Wash sale quantity\"\n",
    "# Verify basis added to replacement shares\n",
    "replacement = tracker.positions['ABC'][-1]\n",
    "assert replacement.basis_add == -5, \"Replacement basis\"\n",
    "assert replacement.shares == 5, \"Replacement shares\"\n",
    "assert replacement.basis_days == (sell_date - start_date).days, \"Replacement basis days\"\n",
    "print(f\"\\nOpen positions after repurchase on {buy_back_date.date()}:\\n\"+tracker.open_lots_str)"
   ]
  },
  {
   "cell_type": "markdown",
   "metadata": {},
   "source": [
    "We'll hold those positions until just over a year, then sell them at a loss.  The original 5 shares produces a Long-Term capital loss, but the replacement shares haven't been held for a full year so their capital loss is classified as Short-Term."
   ]
  },
  {
   "cell_type": "code",
   "execution_count": 4,
   "metadata": {},
   "outputs": [
    {
     "name": "stdout",
     "output_type": "stream",
     "text": [
      "No positions\n"
     ]
    },
    {
     "data": {
      "text/html": [
       "<div>\n",
       "<style scoped>\n",
       "    .dataframe tbody tr th:only-of-type {\n",
       "        vertical-align: middle;\n",
       "    }\n",
       "\n",
       "    .dataframe tbody tr th {\n",
       "        vertical-align: top;\n",
       "    }\n",
       "\n",
       "    .dataframe thead th {\n",
       "        text-align: right;\n",
       "    }\n",
       "</style>\n",
       "<table border=\"1\" class=\"dataframe\">\n",
       "  <thead>\n",
       "    <tr style=\"text-align: right;\">\n",
       "      <th></th>\n",
       "      <th>ShortTerm</th>\n",
       "      <th>LongTerm</th>\n",
       "    </tr>\n",
       "  </thead>\n",
       "  <tbody>\n",
       "    <tr>\n",
       "      <th>2022-01-06</th>\n",
       "      <td>0.0</td>\n",
       "      <td>0.0</td>\n",
       "    </tr>\n",
       "    <tr>\n",
       "      <th>2023-01-07</th>\n",
       "      <td>-15.0</td>\n",
       "      <td>-10.0</td>\n",
       "    </tr>\n",
       "  </tbody>\n",
       "</table>\n",
       "</div>"
      ],
      "text/plain": [
       "            ShortTerm  LongTerm\n",
       "2022-01-06        0.0       0.0\n",
       "2023-01-07      -15.0     -10.0"
      ]
     },
     "metadata": {},
     "output_type": "display_data"
    },
    {
     "name": "stdout",
     "output_type": "stream",
     "text": [
      "Closed position records:\n",
      "ABC: 2022-01-05 5 @ $10.00 >> 2022-01-06 -5 @ $9.00 = $-5.00 ST (1 day) washed\n",
      "ABC: 2022-01-05 5 @ $10.00 >> 2023-01-07 -5 @ $8.00 = $-10.00 LT (367 days)\n",
      "ABC: 2022-01-31 5 @ $10.00 >> 2023-01-07 -5 @ $8.00 = $-15.00 ST (341+1 days)\n"
     ]
    }
   ],
   "source": [
    "# Just over a year later, sell all shares\n",
    "second_sell_date = start_date + pd.DateOffset(days=367)\n",
    "tracker.sell(second_sell_date, 'ABC', shares_to_sell=10, price=8)\n",
    "print(tracker.open_lots_str)\n",
    "display(tracker.capital_gains_df)\n",
    "print(\"Closed position records:\\n\"+tracker.closed_lots_str)"
   ]
  },
  {
   "cell_type": "markdown",
   "metadata": {},
   "source": [
    "Let's complicate it again: Buying 10 shares within 30 days of that sale again triggers the wash rule for the capital losses, so they will disappear from our Capital Gains ledger.  Also, this single purchase produces two different tax lots because there are two different washed losses being carried along."
   ]
  },
  {
   "cell_type": "code",
   "execution_count": 5,
   "metadata": {},
   "outputs": [
    {
     "name": "stdout",
     "output_type": "stream",
     "text": [
      "Wash sales:\n",
      "ABC: 2022-01-05 5 @ $10.00 >> 2022-01-06 -5 @ $9.00 = $-5.00 ST (1 day) washed on 2022-01-31\n",
      "ABC: 2022-01-31 5 @ $10.00 >> 2023-01-07 -5 @ $8.00 = $-15.00 ST (341+1 days) washed on 2023-02-01\n",
      "ABC: 2022-01-05 5 @ $10.00 >> 2023-01-07 -5 @ $8.00 = $-10.00 LT (367 days) washed on 2023-02-01\n"
     ]
    },
    {
     "data": {
      "text/html": [
       "<div>\n",
       "<style scoped>\n",
       "    .dataframe tbody tr th:only-of-type {\n",
       "        vertical-align: middle;\n",
       "    }\n",
       "\n",
       "    .dataframe tbody tr th {\n",
       "        vertical-align: top;\n",
       "    }\n",
       "\n",
       "    .dataframe thead th {\n",
       "        text-align: right;\n",
       "    }\n",
       "</style>\n",
       "<table border=\"1\" class=\"dataframe\">\n",
       "  <thead>\n",
       "    <tr style=\"text-align: right;\">\n",
       "      <th></th>\n",
       "      <th>ShortTerm</th>\n",
       "      <th>LongTerm</th>\n",
       "    </tr>\n",
       "  </thead>\n",
       "  <tbody>\n",
       "    <tr>\n",
       "      <th>2022-01-06</th>\n",
       "      <td>0.0</td>\n",
       "      <td>0.0</td>\n",
       "    </tr>\n",
       "    <tr>\n",
       "      <th>2023-01-07</th>\n",
       "      <td>0.0</td>\n",
       "      <td>0.0</td>\n",
       "    </tr>\n",
       "  </tbody>\n",
       "</table>\n",
       "</div>"
      ],
      "text/plain": [
       "            ShortTerm  LongTerm\n",
       "2022-01-06        0.0       0.0\n",
       "2023-01-07        0.0       0.0"
      ]
     },
     "metadata": {},
     "output_type": "display_data"
    },
    {
     "name": "stdout",
     "output_type": "stream",
     "text": [
      "Open positions after repurchase on 2023-02-01:\n",
      "ABC: 5 @ $7.00 (2023-02-01)  Basis $-15.00 term+342 days\n",
      "ABC: 5 @ $7.00 (2023-02-01)  Basis $-10.00 term+367 days\n"
     ]
    }
   ],
   "source": [
    "# Buy 10 shares back within 30 days to trigger wash sale\n",
    "second_buy_back_date = second_sell_date + pd.Timedelta(days=25)\n",
    "tracker.buy(second_buy_back_date, 'ABC', shares=10, price=7)\n",
    "print(\"Wash sales:\\n\"+tracker.washed_lots_str)\n",
    "display(tracker.capital_gains_df)\n",
    "print(f\"Open positions after repurchase on {second_buy_back_date.date()}:\\n\"+tracker.open_lots_str)"
   ]
  },
  {
   "cell_type": "markdown",
   "metadata": {},
   "source": [
    "Now let's sell everything and see how the accounting finishes."
   ]
  },
  {
   "cell_type": "code",
   "execution_count": 6,
   "metadata": {},
   "outputs": [
    {
     "name": "stdout",
     "output_type": "stream",
     "text": [
      "After final sale: No positions\n"
     ]
    },
    {
     "data": {
      "text/html": [
       "<div>\n",
       "<style scoped>\n",
       "    .dataframe tbody tr th:only-of-type {\n",
       "        vertical-align: middle;\n",
       "    }\n",
       "\n",
       "    .dataframe tbody tr th {\n",
       "        vertical-align: top;\n",
       "    }\n",
       "\n",
       "    .dataframe thead th {\n",
       "        text-align: right;\n",
       "    }\n",
       "</style>\n",
       "<table border=\"1\" class=\"dataframe\">\n",
       "  <thead>\n",
       "    <tr style=\"text-align: right;\">\n",
       "      <th></th>\n",
       "      <th>ShortTerm</th>\n",
       "      <th>LongTerm</th>\n",
       "    </tr>\n",
       "  </thead>\n",
       "  <tbody>\n",
       "    <tr>\n",
       "      <th>2022-01-06</th>\n",
       "      <td>0.0</td>\n",
       "      <td>0.0</td>\n",
       "    </tr>\n",
       "    <tr>\n",
       "      <th>2023-01-07</th>\n",
       "      <td>0.0</td>\n",
       "      <td>0.0</td>\n",
       "    </tr>\n",
       "    <tr>\n",
       "      <th>2023-02-02</th>\n",
       "      <td>-7.5</td>\n",
       "      <td>-2.5</td>\n",
       "    </tr>\n",
       "  </tbody>\n",
       "</table>\n",
       "</div>"
      ],
      "text/plain": [
       "            ShortTerm  LongTerm\n",
       "2022-01-06        0.0       0.0\n",
       "2023-01-07        0.0       0.0\n",
       "2023-02-02       -7.5      -2.5"
      ]
     },
     "metadata": {},
     "output_type": "display_data"
    },
    {
     "name": "stdout",
     "output_type": "stream",
     "text": [
      "Trade record:\n",
      "ABC: 2022-01-05 5 @ $10.00 >> 2022-01-06 -5 @ $9.00 = $-5.00 ST (1 day) washed\n",
      "ABC: 2022-01-05 5 @ $10.00 >> 2023-01-07 -5 @ $8.00 = $-10.00 LT (367 days) washed\n",
      "ABC: 2022-01-31 5 @ $10.00 >> 2023-01-07 -5 @ $8.00 = $-15.00 ST (341+1 days) washed\n",
      "ABC: 2023-02-01 5 @ $7.00 >> 2023-02-02 -5 @ $8.50 = $-7.50 ST (1+342 days)\n",
      "ABC: 2023-02-01 5 @ $7.00 >> 2023-02-02 -5 @ $8.50 = $-2.50 LT (1+367 days)\n"
     ]
    }
   ],
   "source": [
    "date_out = second_buy_back_date + pd.Timedelta(days=1)\n",
    "tracker.sell(date_out, 'ABC', shares_to_sell=10, price=8.5)\n",
    "print(\"After final sale: \"+tracker.open_lots_str)\n",
    "display(tracker.capital_gains_df)\n",
    "print(\"Trade record:\\n\"+tracker.closed_lots_str)"
   ]
  },
  {
   "cell_type": "markdown",
   "metadata": {},
   "source": [
    "## Example 1.2\n",
    "We'll repeat the same trade sequence from Example 1.1, but we'll space the transactions so that more than 30 days elapses between each.  This avoids the wash rule."
   ]
  },
  {
   "cell_type": "code",
   "execution_count": 7,
   "metadata": {},
   "outputs": [
    {
     "name": "stdout",
     "output_type": "stream",
     "text": [
      "Closed position:\n",
      "ABC: 2022-01-05 5 @ $10.00 >> 2022-01-06 -5 @ $9.00 = $-5.00 ST (1 day)\n"
     ]
    },
    {
     "data": {
      "text/html": [
       "<div>\n",
       "<style scoped>\n",
       "    .dataframe tbody tr th:only-of-type {\n",
       "        vertical-align: middle;\n",
       "    }\n",
       "\n",
       "    .dataframe tbody tr th {\n",
       "        vertical-align: top;\n",
       "    }\n",
       "\n",
       "    .dataframe thead th {\n",
       "        text-align: right;\n",
       "    }\n",
       "</style>\n",
       "<table border=\"1\" class=\"dataframe\">\n",
       "  <thead>\n",
       "    <tr style=\"text-align: right;\">\n",
       "      <th></th>\n",
       "      <th>ShortTerm</th>\n",
       "      <th>LongTerm</th>\n",
       "    </tr>\n",
       "  </thead>\n",
       "  <tbody>\n",
       "    <tr>\n",
       "      <th>2022-01-06</th>\n",
       "      <td>-5.0</td>\n",
       "      <td>0</td>\n",
       "    </tr>\n",
       "  </tbody>\n",
       "</table>\n",
       "</div>"
      ],
      "text/plain": [
       "            ShortTerm  LongTerm\n",
       "2022-01-06       -5.0         0"
      ]
     },
     "metadata": {},
     "output_type": "display_data"
    },
    {
     "name": "stdout",
     "output_type": "stream",
     "text": [
      "Open position:\n",
      "ABC: 5 @ $10.00 (2022-01-05) \n"
     ]
    }
   ],
   "source": [
    "tracker = CapGainsTracker()\n",
    "# Buy 10 shares of ABC at $10\n",
    "start_date = pd.Timestamp('2022-01-05')\n",
    "tracker.buy(start_date, 'ABC', shares=10, price=10)\n",
    "# Sell 5 shares of ABC at $9, realizing capital loss of $1/share\n",
    "sell_date = start_date + pd.Timedelta(days=1)\n",
    "tracker.sell(sell_date, 'ABC', shares_to_sell=5, price=9)\n",
    "assert tracker.capital_gains[sell_date]['ShortTerm'] == -5.0, \"Realized -$5 ST gain\"\n",
    "print(\"Closed position:\\n\"+tracker.closed_lots_str)\n",
    "display(tracker.capital_gains_df)\n",
    "print(\"Open position:\\n\"+tracker.open_lots_str)"
   ]
  },
  {
   "cell_type": "code",
   "execution_count": 8,
   "metadata": {},
   "outputs": [
    {
     "data": {
      "text/html": [
       "<div>\n",
       "<style scoped>\n",
       "    .dataframe tbody tr th:only-of-type {\n",
       "        vertical-align: middle;\n",
       "    }\n",
       "\n",
       "    .dataframe tbody tr th {\n",
       "        vertical-align: top;\n",
       "    }\n",
       "\n",
       "    .dataframe thead th {\n",
       "        text-align: right;\n",
       "    }\n",
       "</style>\n",
       "<table border=\"1\" class=\"dataframe\">\n",
       "  <thead>\n",
       "    <tr style=\"text-align: right;\">\n",
       "      <th></th>\n",
       "      <th>ShortTerm</th>\n",
       "      <th>LongTerm</th>\n",
       "    </tr>\n",
       "  </thead>\n",
       "  <tbody>\n",
       "    <tr>\n",
       "      <th>2022-01-06</th>\n",
       "      <td>-5.0</td>\n",
       "      <td>0</td>\n",
       "    </tr>\n",
       "  </tbody>\n",
       "</table>\n",
       "</div>"
      ],
      "text/plain": [
       "            ShortTerm  LongTerm\n",
       "2022-01-06       -5.0         0"
      ]
     },
     "metadata": {},
     "output_type": "display_data"
    },
    {
     "name": "stdout",
     "output_type": "stream",
     "text": [
      "Open position:\n",
      "ABC: 5 @ $10.00 (2022-01-05) \n",
      "ABC: 5 @ $10.00 (2022-02-10) \n"
     ]
    }
   ],
   "source": [
    "# Buy 5 shares of ABC more than 30 days later\n",
    "buy_back_date = sell_date + pd.Timedelta(days=35)\n",
    "tracker.buy(buy_back_date, 'ABC', shares=5, price=10)\n",
    "display(tracker.capital_gains_df)\n",
    "print(\"Open position:\\n\"+tracker.open_lots_str)"
   ]
  },
  {
   "cell_type": "code",
   "execution_count": 9,
   "metadata": {},
   "outputs": [
    {
     "name": "stdout",
     "output_type": "stream",
     "text": [
      "No positions\n"
     ]
    },
    {
     "data": {
      "text/html": [
       "<div>\n",
       "<style scoped>\n",
       "    .dataframe tbody tr th:only-of-type {\n",
       "        vertical-align: middle;\n",
       "    }\n",
       "\n",
       "    .dataframe tbody tr th {\n",
       "        vertical-align: top;\n",
       "    }\n",
       "\n",
       "    .dataframe thead th {\n",
       "        text-align: right;\n",
       "    }\n",
       "</style>\n",
       "<table border=\"1\" class=\"dataframe\">\n",
       "  <thead>\n",
       "    <tr style=\"text-align: right;\">\n",
       "      <th></th>\n",
       "      <th>ShortTerm</th>\n",
       "      <th>LongTerm</th>\n",
       "    </tr>\n",
       "  </thead>\n",
       "  <tbody>\n",
       "    <tr>\n",
       "      <th>2022-01-06</th>\n",
       "      <td>-5.0</td>\n",
       "      <td>0.0</td>\n",
       "    </tr>\n",
       "    <tr>\n",
       "      <th>2023-01-07</th>\n",
       "      <td>-10.0</td>\n",
       "      <td>-10.0</td>\n",
       "    </tr>\n",
       "  </tbody>\n",
       "</table>\n",
       "</div>"
      ],
      "text/plain": [
       "            ShortTerm  LongTerm\n",
       "2022-01-06       -5.0       0.0\n",
       "2023-01-07      -10.0     -10.0"
      ]
     },
     "metadata": {},
     "output_type": "display_data"
    },
    {
     "name": "stdout",
     "output_type": "stream",
     "text": [
      "\n",
      "Closed position records:\n",
      "ABC: 2022-01-05 5 @ $10.00 >> 2022-01-06 -5 @ $9.00 = $-5.00 ST (1 day)\n",
      "ABC: 2022-01-05 5 @ $10.00 >> 2023-01-07 -5 @ $8.00 = $-10.00 LT (367 days)\n",
      "ABC: 2022-02-10 5 @ $10.00 >> 2023-01-07 -5 @ $8.00 = $-10.00 ST (331 days)\n"
     ]
    }
   ],
   "source": [
    "# Just over a year later, sell all shares\n",
    "second_sell_date = start_date + pd.DateOffset(days=367)\n",
    "tracker.sell(second_sell_date, 'ABC', shares_to_sell=10, price=8)\n",
    "print(tracker.open_lots_str)\n",
    "display(tracker.capital_gains_df)\n",
    "print(\"\\nClosed position records:\\n\"+tracker.closed_lots_str)"
   ]
  },
  {
   "cell_type": "code",
   "execution_count": 10,
   "metadata": {},
   "outputs": [
    {
     "name": "stdout",
     "output_type": "stream",
     "text": [
      "ABC: 10 @ $7.00 (2023-02-11) \n"
     ]
    },
    {
     "data": {
      "text/html": [
       "<div>\n",
       "<style scoped>\n",
       "    .dataframe tbody tr th:only-of-type {\n",
       "        vertical-align: middle;\n",
       "    }\n",
       "\n",
       "    .dataframe tbody tr th {\n",
       "        vertical-align: top;\n",
       "    }\n",
       "\n",
       "    .dataframe thead th {\n",
       "        text-align: right;\n",
       "    }\n",
       "</style>\n",
       "<table border=\"1\" class=\"dataframe\">\n",
       "  <thead>\n",
       "    <tr style=\"text-align: right;\">\n",
       "      <th></th>\n",
       "      <th>ShortTerm</th>\n",
       "      <th>LongTerm</th>\n",
       "    </tr>\n",
       "  </thead>\n",
       "  <tbody>\n",
       "    <tr>\n",
       "      <th>2022-01-06</th>\n",
       "      <td>-5.0</td>\n",
       "      <td>0.0</td>\n",
       "    </tr>\n",
       "    <tr>\n",
       "      <th>2023-01-07</th>\n",
       "      <td>-10.0</td>\n",
       "      <td>-10.0</td>\n",
       "    </tr>\n",
       "  </tbody>\n",
       "</table>\n",
       "</div>"
      ],
      "text/plain": [
       "            ShortTerm  LongTerm\n",
       "2022-01-06       -5.0       0.0\n",
       "2023-01-07      -10.0     -10.0"
      ]
     },
     "metadata": {},
     "output_type": "display_data"
    }
   ],
   "source": [
    "# Buy 10 shares back more than 30 days later\n",
    "second_buy_back_date = second_sell_date + pd.Timedelta(days=35)\n",
    "tracker.buy(second_buy_back_date, 'ABC', shares=10, price=7)\n",
    "print(tracker.open_lots_str)\n",
    "display(tracker.capital_gains_df)"
   ]
  },
  {
   "cell_type": "code",
   "execution_count": 11,
   "metadata": {},
   "outputs": [
    {
     "name": "stdout",
     "output_type": "stream",
     "text": [
      "After final sale: No positions\n"
     ]
    },
    {
     "data": {
      "text/html": [
       "<div>\n",
       "<style scoped>\n",
       "    .dataframe tbody tr th:only-of-type {\n",
       "        vertical-align: middle;\n",
       "    }\n",
       "\n",
       "    .dataframe tbody tr th {\n",
       "        vertical-align: top;\n",
       "    }\n",
       "\n",
       "    .dataframe thead th {\n",
       "        text-align: right;\n",
       "    }\n",
       "</style>\n",
       "<table border=\"1\" class=\"dataframe\">\n",
       "  <thead>\n",
       "    <tr style=\"text-align: right;\">\n",
       "      <th></th>\n",
       "      <th>ShortTerm</th>\n",
       "      <th>LongTerm</th>\n",
       "    </tr>\n",
       "  </thead>\n",
       "  <tbody>\n",
       "    <tr>\n",
       "      <th>2022-01-06</th>\n",
       "      <td>-5.0</td>\n",
       "      <td>0.0</td>\n",
       "    </tr>\n",
       "    <tr>\n",
       "      <th>2023-01-07</th>\n",
       "      <td>-10.0</td>\n",
       "      <td>-10.0</td>\n",
       "    </tr>\n",
       "    <tr>\n",
       "      <th>2023-02-12</th>\n",
       "      <td>15.0</td>\n",
       "      <td>0.0</td>\n",
       "    </tr>\n",
       "  </tbody>\n",
       "</table>\n",
       "</div>"
      ],
      "text/plain": [
       "            ShortTerm  LongTerm\n",
       "2022-01-06       -5.0       0.0\n",
       "2023-01-07      -10.0     -10.0\n",
       "2023-02-12       15.0       0.0"
      ]
     },
     "metadata": {},
     "output_type": "display_data"
    },
    {
     "name": "stdout",
     "output_type": "stream",
     "text": [
      "Trade record:\n",
      "ABC: 2022-01-05 5 @ $10.00 >> 2022-01-06 -5 @ $9.00 = $-5.00 ST (1 day)\n",
      "ABC: 2022-01-05 5 @ $10.00 >> 2023-01-07 -5 @ $8.00 = $-10.00 LT (367 days)\n",
      "ABC: 2022-02-10 5 @ $10.00 >> 2023-01-07 -5 @ $8.00 = $-10.00 ST (331 days)\n",
      "ABC: 2023-02-11 10 @ $7.00 >> 2023-02-12 -10 @ $8.50 = $15.00 ST (1 day)\n"
     ]
    }
   ],
   "source": [
    "date_out = second_buy_back_date + pd.Timedelta(days=1)\n",
    "tracker.sell(date_out, 'ABC', shares_to_sell=10, price=8.5)\n",
    "print(\"After final sale: \"+tracker.open_lots_str)\n",
    "display(tracker.capital_gains_df)\n",
    "print(\"Trade record:\\n\"+tracker.closed_lots_str)"
   ]
  },
  {
   "cell_type": "markdown",
   "metadata": {},
   "source": [
    "## Example 1.3\n",
    "We'll repeat the same trade sequence from Example 1.1, but in the opposite direction (i.e., beginning with a short sale) so that instead of a loss we have a gain.  This also avoids the wash rule."
   ]
  },
  {
   "cell_type": "code",
   "execution_count": 12,
   "metadata": {},
   "outputs": [
    {
     "data": {
      "text/html": [
       "<div>\n",
       "<style scoped>\n",
       "    .dataframe tbody tr th:only-of-type {\n",
       "        vertical-align: middle;\n",
       "    }\n",
       "\n",
       "    .dataframe tbody tr th {\n",
       "        vertical-align: top;\n",
       "    }\n",
       "\n",
       "    .dataframe thead th {\n",
       "        text-align: right;\n",
       "    }\n",
       "</style>\n",
       "<table border=\"1\" class=\"dataframe\">\n",
       "  <thead>\n",
       "    <tr style=\"text-align: right;\">\n",
       "      <th></th>\n",
       "      <th>ShortTerm</th>\n",
       "      <th>LongTerm</th>\n",
       "    </tr>\n",
       "  </thead>\n",
       "  <tbody>\n",
       "    <tr>\n",
       "      <th>2022-01-06</th>\n",
       "      <td>5.0</td>\n",
       "      <td>0</td>\n",
       "    </tr>\n",
       "  </tbody>\n",
       "</table>\n",
       "</div>"
      ],
      "text/plain": [
       "            ShortTerm  LongTerm\n",
       "2022-01-06        5.0         0"
      ]
     },
     "metadata": {},
     "output_type": "display_data"
    },
    {
     "name": "stdout",
     "output_type": "stream",
     "text": [
      "Closed position:\n",
      "ABC: 2022-01-05 -5 @ $10.00 >> 2022-01-06 5 @ $9.00 = $5.00 ST (1 day)\n",
      "\n",
      "Open position:\n",
      "ABC: -5 @ $10.00 (2022-01-05) \n"
     ]
    }
   ],
   "source": [
    "tracker = CapGainsTracker()\n",
    "# Short 10 shares of ABC at $10\n",
    "start_date = pd.Timestamp('2022-01-05')\n",
    "tracker.trade(start_date, 'ABC', shares=-10, price=10)\n",
    "# Cover 5 shares of ABC at $9, realizing capital gain of $1/share\n",
    "cover_date = start_date + pd.Timedelta(days=1)\n",
    "tracker.trade(cover_date, 'ABC', 5, price=9)\n",
    "assert tracker.capital_gains[cover_date]['ShortTerm'] == 5.0, \"Realized $5 ST gain\"\n",
    "display(tracker.capital_gains_df)\n",
    "print(\"Closed position:\\n\"+tracker.closed_lots_str)\n",
    "print(\"\\nOpen position:\\n\"+tracker.open_lots_str)"
   ]
  },
  {
   "cell_type": "code",
   "execution_count": 13,
   "metadata": {},
   "outputs": [
    {
     "data": {
      "text/html": [
       "<div>\n",
       "<style scoped>\n",
       "    .dataframe tbody tr th:only-of-type {\n",
       "        vertical-align: middle;\n",
       "    }\n",
       "\n",
       "    .dataframe tbody tr th {\n",
       "        vertical-align: top;\n",
       "    }\n",
       "\n",
       "    .dataframe thead th {\n",
       "        text-align: right;\n",
       "    }\n",
       "</style>\n",
       "<table border=\"1\" class=\"dataframe\">\n",
       "  <thead>\n",
       "    <tr style=\"text-align: right;\">\n",
       "      <th></th>\n",
       "      <th>ShortTerm</th>\n",
       "      <th>LongTerm</th>\n",
       "    </tr>\n",
       "  </thead>\n",
       "  <tbody>\n",
       "    <tr>\n",
       "      <th>2022-01-06</th>\n",
       "      <td>5.0</td>\n",
       "      <td>0</td>\n",
       "    </tr>\n",
       "  </tbody>\n",
       "</table>\n",
       "</div>"
      ],
      "text/plain": [
       "            ShortTerm  LongTerm\n",
       "2022-01-06        5.0         0"
      ]
     },
     "metadata": {},
     "output_type": "display_data"
    },
    {
     "name": "stdout",
     "output_type": "stream",
     "text": [
      "Open positions:\n",
      "ABC: -5 @ $10.00 (2022-01-05) \n",
      "ABC: -5 @ $10.00 (2022-01-31) \n"
     ]
    }
   ],
   "source": [
    "# Short 5 shares of ABC within 30 days; no effect on capital gains\n",
    "second_short_date = cover_date + pd.Timedelta(days=25)\n",
    "tracker.trade(second_short_date, 'ABC', shares=-5, price=10)\n",
    "display(tracker.capital_gains_df)\n",
    "print(\"Open positions:\\n\"+tracker.open_lots_str)"
   ]
  },
  {
   "cell_type": "code",
   "execution_count": 14,
   "metadata": {},
   "outputs": [
    {
     "name": "stdout",
     "output_type": "stream",
     "text": [
      "No positions\n"
     ]
    },
    {
     "data": {
      "text/html": [
       "<div>\n",
       "<style scoped>\n",
       "    .dataframe tbody tr th:only-of-type {\n",
       "        vertical-align: middle;\n",
       "    }\n",
       "\n",
       "    .dataframe tbody tr th {\n",
       "        vertical-align: top;\n",
       "    }\n",
       "\n",
       "    .dataframe thead th {\n",
       "        text-align: right;\n",
       "    }\n",
       "</style>\n",
       "<table border=\"1\" class=\"dataframe\">\n",
       "  <thead>\n",
       "    <tr style=\"text-align: right;\">\n",
       "      <th></th>\n",
       "      <th>ShortTerm</th>\n",
       "      <th>LongTerm</th>\n",
       "    </tr>\n",
       "  </thead>\n",
       "  <tbody>\n",
       "    <tr>\n",
       "      <th>2022-01-06</th>\n",
       "      <td>5.0</td>\n",
       "      <td>0.0</td>\n",
       "    </tr>\n",
       "    <tr>\n",
       "      <th>2023-01-07</th>\n",
       "      <td>10.0</td>\n",
       "      <td>10.0</td>\n",
       "    </tr>\n",
       "  </tbody>\n",
       "</table>\n",
       "</div>"
      ],
      "text/plain": [
       "            ShortTerm  LongTerm\n",
       "2022-01-06        5.0       0.0\n",
       "2023-01-07       10.0      10.0"
      ]
     },
     "metadata": {},
     "output_type": "display_data"
    },
    {
     "name": "stdout",
     "output_type": "stream",
     "text": [
      "Closed position records:\n",
      "ABC: 2022-01-05 -5 @ $10.00 >> 2022-01-06 5 @ $9.00 = $5.00 ST (1 day)\n",
      "ABC: 2022-01-05 -5 @ $10.00 >> 2023-01-07 5 @ $8.00 = $10.00 LT (367 days)\n",
      "ABC: 2022-01-31 -5 @ $10.00 >> 2023-01-07 5 @ $8.00 = $10.00 ST (341 days)\n"
     ]
    }
   ],
   "source": [
    "# Just over a year later, cover all shares\n",
    "second_cover_date = start_date + pd.DateOffset(days=367)\n",
    "tracker.trade(second_cover_date, 'ABC', 10, price=8)\n",
    "print(tracker.open_lots_str)\n",
    "display(tracker.capital_gains_df)\n",
    "print(\"Closed position records:\\n\"+tracker.closed_lots_str)"
   ]
  },
  {
   "cell_type": "code",
   "execution_count": 15,
   "metadata": {},
   "outputs": [
    {
     "data": {
      "text/html": [
       "<div>\n",
       "<style scoped>\n",
       "    .dataframe tbody tr th:only-of-type {\n",
       "        vertical-align: middle;\n",
       "    }\n",
       "\n",
       "    .dataframe tbody tr th {\n",
       "        vertical-align: top;\n",
       "    }\n",
       "\n",
       "    .dataframe thead th {\n",
       "        text-align: right;\n",
       "    }\n",
       "</style>\n",
       "<table border=\"1\" class=\"dataframe\">\n",
       "  <thead>\n",
       "    <tr style=\"text-align: right;\">\n",
       "      <th></th>\n",
       "      <th>ShortTerm</th>\n",
       "      <th>LongTerm</th>\n",
       "    </tr>\n",
       "  </thead>\n",
       "  <tbody>\n",
       "    <tr>\n",
       "      <th>2022-01-06</th>\n",
       "      <td>5.0</td>\n",
       "      <td>0.0</td>\n",
       "    </tr>\n",
       "    <tr>\n",
       "      <th>2023-01-07</th>\n",
       "      <td>10.0</td>\n",
       "      <td>10.0</td>\n",
       "    </tr>\n",
       "  </tbody>\n",
       "</table>\n",
       "</div>"
      ],
      "text/plain": [
       "            ShortTerm  LongTerm\n",
       "2022-01-06        5.0       0.0\n",
       "2023-01-07       10.0      10.0"
      ]
     },
     "metadata": {},
     "output_type": "display_data"
    },
    {
     "name": "stdout",
     "output_type": "stream",
     "text": [
      "Open positions after shorting on 2023-02-01:\n",
      "ABC: -10 @ $7.00 (2023-02-01) \n",
      "\n",
      "Wash sales: No washed trades\n"
     ]
    }
   ],
   "source": [
    "# Short 10 shares within 30 days.  Still no loss, so no wash\n",
    "second_short_date = second_cover_date + pd.Timedelta(days=25)\n",
    "tracker.trade(second_short_date, 'ABC', -10, price=7)\n",
    "display(tracker.capital_gains_df)\n",
    "print(f\"Open positions after shorting on {second_short_date.date()}:\\n\"+tracker.open_lots_str)\n",
    "print(\"\\nWash sales: \" + tracker.washed_lots_str)"
   ]
  },
  {
   "cell_type": "code",
   "execution_count": 16,
   "metadata": {},
   "outputs": [
    {
     "name": "stdout",
     "output_type": "stream",
     "text": [
      "After final cover: No positions\n"
     ]
    },
    {
     "data": {
      "text/html": [
       "<div>\n",
       "<style scoped>\n",
       "    .dataframe tbody tr th:only-of-type {\n",
       "        vertical-align: middle;\n",
       "    }\n",
       "\n",
       "    .dataframe tbody tr th {\n",
       "        vertical-align: top;\n",
       "    }\n",
       "\n",
       "    .dataframe thead th {\n",
       "        text-align: right;\n",
       "    }\n",
       "</style>\n",
       "<table border=\"1\" class=\"dataframe\">\n",
       "  <thead>\n",
       "    <tr style=\"text-align: right;\">\n",
       "      <th></th>\n",
       "      <th>ShortTerm</th>\n",
       "      <th>LongTerm</th>\n",
       "    </tr>\n",
       "  </thead>\n",
       "  <tbody>\n",
       "    <tr>\n",
       "      <th>2022-01-06</th>\n",
       "      <td>5.0</td>\n",
       "      <td>0.0</td>\n",
       "    </tr>\n",
       "    <tr>\n",
       "      <th>2023-01-07</th>\n",
       "      <td>10.0</td>\n",
       "      <td>10.0</td>\n",
       "    </tr>\n",
       "    <tr>\n",
       "      <th>2023-02-02</th>\n",
       "      <td>-15.0</td>\n",
       "      <td>0.0</td>\n",
       "    </tr>\n",
       "  </tbody>\n",
       "</table>\n",
       "</div>"
      ],
      "text/plain": [
       "            ShortTerm  LongTerm\n",
       "2022-01-06        5.0       0.0\n",
       "2023-01-07       10.0      10.0\n",
       "2023-02-02      -15.0       0.0"
      ]
     },
     "metadata": {},
     "output_type": "display_data"
    },
    {
     "name": "stdout",
     "output_type": "stream",
     "text": [
      "Trade record:\n",
      "ABC: 2022-01-05 -5 @ $10.00 >> 2022-01-06 5 @ $9.00 = $5.00 ST (1 day)\n",
      "ABC: 2022-01-05 -5 @ $10.00 >> 2023-01-07 5 @ $8.00 = $10.00 LT (367 days)\n",
      "ABC: 2022-01-31 -5 @ $10.00 >> 2023-01-07 5 @ $8.00 = $10.00 ST (341 days)\n",
      "ABC: 2023-02-01 -10 @ $7.00 >> 2023-02-02 10 @ $8.50 = $-15.00 ST (1 day)\n"
     ]
    }
   ],
   "source": [
    "# Sell everything and check final accounting\n",
    "date_out = second_short_date + pd.Timedelta(days=1)\n",
    "tracker.trade(date_out, 'ABC', 10, price=8.5)\n",
    "print(\"After final cover: \"+tracker.open_lots_str)\n",
    "display(tracker.capital_gains_df)\n",
    "print(\"Trade record:\\n\"+tracker.closed_lots_str)"
   ]
  },
  {
   "cell_type": "markdown",
   "metadata": {},
   "source": [
    "## Example 1.4\n",
    "Orders that not only wash losses, but also change the position side (from long to short, and vice versa)."
   ]
  },
  {
   "cell_type": "code",
   "execution_count": 17,
   "metadata": {},
   "outputs": [
    {
     "data": {
      "text/html": [
       "<div>\n",
       "<style scoped>\n",
       "    .dataframe tbody tr th:only-of-type {\n",
       "        vertical-align: middle;\n",
       "    }\n",
       "\n",
       "    .dataframe tbody tr th {\n",
       "        vertical-align: top;\n",
       "    }\n",
       "\n",
       "    .dataframe thead th {\n",
       "        text-align: right;\n",
       "    }\n",
       "</style>\n",
       "<table border=\"1\" class=\"dataframe\">\n",
       "  <thead>\n",
       "    <tr style=\"text-align: right;\">\n",
       "      <th></th>\n",
       "      <th>ShortTerm</th>\n",
       "      <th>LongTerm</th>\n",
       "    </tr>\n",
       "  </thead>\n",
       "  <tbody>\n",
       "    <tr>\n",
       "      <th>2022-01-06</th>\n",
       "      <td>-3.0</td>\n",
       "      <td>0</td>\n",
       "    </tr>\n",
       "  </tbody>\n",
       "</table>\n",
       "</div>"
      ],
      "text/plain": [
       "            ShortTerm  LongTerm\n",
       "2022-01-06       -3.0         0"
      ]
     },
     "metadata": {},
     "output_type": "display_data"
    },
    {
     "name": "stdout",
     "output_type": "stream",
     "text": [
      "Closed position:\n",
      "ABC: 2022-01-05 3 @ $10.00 >> 2022-01-06 -3 @ $9.00 = $-3.00 ST (1 day)\n",
      "\n",
      "Open position:\n",
      "ABC: 2 @ $10.00 (2022-01-05) \n"
     ]
    }
   ],
   "source": [
    "tracker = CapGainsTracker()\n",
    "# Buy 5 shares of ABC at $10\n",
    "start_date = pd.Timestamp('2022-01-05')\n",
    "tracker.trade(start_date, 'ABC', shares=5, price=10)\n",
    "# Sell 3 shares of ABC at $9, realizing capital loss of $1/share\n",
    "sell_date = start_date + pd.Timedelta(days=1)\n",
    "tracker.trade(sell_date, 'ABC', -3, price=9)\n",
    "display(tracker.capital_gains_df)\n",
    "print(\"Closed position:\\n\"+tracker.closed_lots_str)\n",
    "print(\"\\nOpen position:\\n\"+tracker.open_lots_str)"
   ]
  },
  {
   "cell_type": "code",
   "execution_count": 18,
   "metadata": {},
   "outputs": [
    {
     "data": {
      "text/html": [
       "<div>\n",
       "<style scoped>\n",
       "    .dataframe tbody tr th:only-of-type {\n",
       "        vertical-align: middle;\n",
       "    }\n",
       "\n",
       "    .dataframe tbody tr th {\n",
       "        vertical-align: top;\n",
       "    }\n",
       "\n",
       "    .dataframe thead th {\n",
       "        text-align: right;\n",
       "    }\n",
       "</style>\n",
       "<table border=\"1\" class=\"dataframe\">\n",
       "  <thead>\n",
       "    <tr style=\"text-align: right;\">\n",
       "      <th></th>\n",
       "      <th>ShortTerm</th>\n",
       "      <th>LongTerm</th>\n",
       "    </tr>\n",
       "  </thead>\n",
       "  <tbody>\n",
       "    <tr>\n",
       "      <th>2022-01-06</th>\n",
       "      <td>-3.0</td>\n",
       "      <td>0</td>\n",
       "    </tr>\n",
       "    <tr>\n",
       "      <th>2022-01-07</th>\n",
       "      <td>-4.0</td>\n",
       "      <td>0</td>\n",
       "    </tr>\n",
       "  </tbody>\n",
       "</table>\n",
       "</div>"
      ],
      "text/plain": [
       "            ShortTerm  LongTerm\n",
       "2022-01-06       -3.0         0\n",
       "2022-01-07       -4.0         0"
      ]
     },
     "metadata": {},
     "output_type": "display_data"
    },
    {
     "name": "stdout",
     "output_type": "stream",
     "text": [
      "Closed positions:\n",
      "ABC: 2022-01-05 3 @ $10.00 >> 2022-01-06 -3 @ $9.00 = $-3.00 ST (1 day)\n",
      "ABC: 2022-01-05 2 @ $10.00 >> 2022-01-07 -2 @ $8.00 = $-4.00 ST (2 days)\n",
      "\n",
      "Open position:\n",
      "ABC: -5 @ $8.00 (2022-01-07) \n"
     ]
    }
   ],
   "source": [
    "# Sell 7 shares of ABC at $8, realizing capital loss of $2/share on 2 shares, but not washing the loss\n",
    "second_sell_date = start_date + pd.Timedelta(days=2)\n",
    "tracker.trade(second_sell_date, 'ABC', -7, price=8)\n",
    "display(tracker.capital_gains_df)\n",
    "print(\"Closed positions:\\n\"+tracker.closed_lots_str)\n",
    "print(\"\\nOpen position:\\n\"+tracker.open_lots_str)"
   ]
  },
  {
   "cell_type": "code",
   "execution_count": 19,
   "metadata": {},
   "outputs": [
    {
     "name": "stdout",
     "output_type": "stream",
     "text": [
      "Wash sales:\n",
      "ABC: 2022-01-05 2 @ $10.00 >> 2022-01-07 -2 @ $8.00 = $-4.00 ST (2 days) washed on 2022-02-01\n",
      "ABC: 2022-01-05 3 @ $10.00 >> 2022-01-06 -3 @ $9.00 = $-3.00 ST (1 day) washed on 2022-02-01\n"
     ]
    },
    {
     "data": {
      "text/html": [
       "<div>\n",
       "<style scoped>\n",
       "    .dataframe tbody tr th:only-of-type {\n",
       "        vertical-align: middle;\n",
       "    }\n",
       "\n",
       "    .dataframe tbody tr th {\n",
       "        vertical-align: top;\n",
       "    }\n",
       "\n",
       "    .dataframe thead th {\n",
       "        text-align: right;\n",
       "    }\n",
       "</style>\n",
       "<table border=\"1\" class=\"dataframe\">\n",
       "  <thead>\n",
       "    <tr style=\"text-align: right;\">\n",
       "      <th></th>\n",
       "      <th>ShortTerm</th>\n",
       "      <th>LongTerm</th>\n",
       "    </tr>\n",
       "  </thead>\n",
       "  <tbody>\n",
       "    <tr>\n",
       "      <th>2022-01-06</th>\n",
       "      <td>0.0</td>\n",
       "      <td>0</td>\n",
       "    </tr>\n",
       "    <tr>\n",
       "      <th>2022-01-07</th>\n",
       "      <td>0.0</td>\n",
       "      <td>0</td>\n",
       "    </tr>\n",
       "    <tr>\n",
       "      <th>2022-02-01</th>\n",
       "      <td>-10.0</td>\n",
       "      <td>0</td>\n",
       "    </tr>\n",
       "  </tbody>\n",
       "</table>\n",
       "</div>"
      ],
      "text/plain": [
       "            ShortTerm  LongTerm\n",
       "2022-01-06        0.0         0\n",
       "2022-01-07        0.0         0\n",
       "2022-02-01      -10.0         0"
      ]
     },
     "metadata": {},
     "output_type": "display_data"
    },
    {
     "name": "stdout",
     "output_type": "stream",
     "text": [
      "Closed positions:\n",
      "ABC: 2022-01-05 3 @ $10.00 >> 2022-01-06 -3 @ $9.00 = $-3.00 ST (1 day) washed\n",
      "ABC: 2022-01-05 2 @ $10.00 >> 2022-01-07 -2 @ $8.00 = $-4.00 ST (2 days) washed\n",
      "ABC: 2022-01-07 -5 @ $8.00 >> 2022-02-01 5 @ $10.00 = $-10.00 ST (25 days)\n",
      "\n",
      "Open positions:\n",
      "ABC: 2 @ $10.00 (2022-02-01)  Basis $-4.00 term+2 days\n",
      "ABC: 3 @ $10.00 (2022-02-01)  Basis $-3.00 term+1 day\n"
     ]
    }
   ],
   "source": [
    "# Buy 10 shares.  This will wash the losses, and produce a loss of its own.\n",
    "buy_back_date = second_sell_date + pd.Timedelta(days=25)\n",
    "tracker.trade(buy_back_date, 'ABC', shares=10, price=10)\n",
    "print(\"Wash sales:\\n\"+tracker.washed_lots_str)\n",
    "display(tracker.capital_gains_df)\n",
    "print(\"Closed positions:\\n\"+tracker.closed_lots_str)\n",
    "print(\"\\nOpen positions:\\n\"+tracker.open_lots_str)"
   ]
  },
  {
   "cell_type": "code",
   "execution_count": 20,
   "metadata": {},
   "outputs": [
    {
     "name": "stdout",
     "output_type": "stream",
     "text": [
      "Wash sales:\n",
      "ABC: 2022-01-05 2 @ $10.00 >> 2022-01-07 -2 @ $8.00 = $-4.00 ST (2 days) washed on 2022-02-01\n",
      "ABC: 2022-01-05 3 @ $10.00 >> 2022-01-06 -3 @ $9.00 = $-3.00 ST (1 day) washed on 2022-02-01\n",
      "ABC: 2022-01-07 -5 @ $8.00 >> 2022-02-01 5 @ $10.00 = $-10.00 ST (25 days) washed on 2022-02-21\n"
     ]
    },
    {
     "data": {
      "text/html": [
       "<div>\n",
       "<style scoped>\n",
       "    .dataframe tbody tr th:only-of-type {\n",
       "        vertical-align: middle;\n",
       "    }\n",
       "\n",
       "    .dataframe tbody tr th {\n",
       "        vertical-align: top;\n",
       "    }\n",
       "\n",
       "    .dataframe thead th {\n",
       "        text-align: right;\n",
       "    }\n",
       "</style>\n",
       "<table border=\"1\" class=\"dataframe\">\n",
       "  <thead>\n",
       "    <tr style=\"text-align: right;\">\n",
       "      <th></th>\n",
       "      <th>ShortTerm</th>\n",
       "      <th>LongTerm</th>\n",
       "    </tr>\n",
       "  </thead>\n",
       "  <tbody>\n",
       "    <tr>\n",
       "      <th>2022-01-06</th>\n",
       "      <td>0.0</td>\n",
       "      <td>0</td>\n",
       "    </tr>\n",
       "    <tr>\n",
       "      <th>2022-01-07</th>\n",
       "      <td>0.0</td>\n",
       "      <td>0</td>\n",
       "    </tr>\n",
       "    <tr>\n",
       "      <th>2022-02-01</th>\n",
       "      <td>0.0</td>\n",
       "      <td>0</td>\n",
       "    </tr>\n",
       "    <tr>\n",
       "      <th>2022-02-21</th>\n",
       "      <td>-12.0</td>\n",
       "      <td>0</td>\n",
       "    </tr>\n",
       "  </tbody>\n",
       "</table>\n",
       "</div>"
      ],
      "text/plain": [
       "            ShortTerm  LongTerm\n",
       "2022-01-06        0.0         0\n",
       "2022-01-07        0.0         0\n",
       "2022-02-01        0.0         0\n",
       "2022-02-21      -12.0         0"
      ]
     },
     "metadata": {},
     "output_type": "display_data"
    },
    {
     "name": "stdout",
     "output_type": "stream",
     "text": [
      "Closed positions:\n",
      "ABC: 2022-01-05 3 @ $10.00 >> 2022-01-06 -3 @ $9.00 = $-3.00 ST (1 day) washed\n",
      "ABC: 2022-01-05 2 @ $10.00 >> 2022-01-07 -2 @ $8.00 = $-4.00 ST (2 days) washed\n",
      "ABC: 2022-01-07 -5 @ $8.00 >> 2022-02-01 5 @ $10.00 = $-10.00 ST (25 days) washed\n",
      "ABC: 2022-02-01 2 @ $10.00 >> 2022-02-21 -2 @ $9.00 = $-6.00 ST (20+2 days)\n",
      "ABC: 2022-02-01 3 @ $10.00 >> 2022-02-21 -3 @ $9.00 = $-6.00 ST (20+1 days)\n",
      "\n",
      "Open position:\n",
      "ABC: -5 @ $9.00 (2022-02-21)  Basis $-10.00 term+25 days\n"
     ]
    }
   ],
   "source": [
    "# Sell 10 shares.  This will wash the current loss but realize the previously washed losses.\n",
    "sell_date = buy_back_date + pd.Timedelta(days=20)\n",
    "tracker.trade(sell_date, 'ABC', -10, price=9)\n",
    "print(\"Wash sales:\\n\"+tracker.washed_lots_str)\n",
    "display(tracker.capital_gains_df)\n",
    "print(\"Closed positions:\\n\"+tracker.closed_lots_str)\n",
    "print(\"\\nOpen position:\\n\"+tracker.open_lots_str)"
   ]
  },
  {
   "cell_type": "code",
   "execution_count": 21,
   "metadata": {},
   "outputs": [
    {
     "data": {
      "text/html": [
       "<div>\n",
       "<style scoped>\n",
       "    .dataframe tbody tr th:only-of-type {\n",
       "        vertical-align: middle;\n",
       "    }\n",
       "\n",
       "    .dataframe tbody tr th {\n",
       "        vertical-align: top;\n",
       "    }\n",
       "\n",
       "    .dataframe thead th {\n",
       "        text-align: right;\n",
       "    }\n",
       "</style>\n",
       "<table border=\"1\" class=\"dataframe\">\n",
       "  <thead>\n",
       "    <tr style=\"text-align: right;\">\n",
       "      <th></th>\n",
       "      <th>ShortTerm</th>\n",
       "      <th>LongTerm</th>\n",
       "    </tr>\n",
       "  </thead>\n",
       "  <tbody>\n",
       "    <tr>\n",
       "      <th>2022-01-06</th>\n",
       "      <td>0.0</td>\n",
       "      <td>0</td>\n",
       "    </tr>\n",
       "    <tr>\n",
       "      <th>2022-01-07</th>\n",
       "      <td>0.0</td>\n",
       "      <td>0</td>\n",
       "    </tr>\n",
       "    <tr>\n",
       "      <th>2022-02-01</th>\n",
       "      <td>0.0</td>\n",
       "      <td>0</td>\n",
       "    </tr>\n",
       "    <tr>\n",
       "      <th>2022-02-21</th>\n",
       "      <td>-12.0</td>\n",
       "      <td>0</td>\n",
       "    </tr>\n",
       "    <tr>\n",
       "      <th>2022-02-22</th>\n",
       "      <td>-15.0</td>\n",
       "      <td>0</td>\n",
       "    </tr>\n",
       "  </tbody>\n",
       "</table>\n",
       "</div>"
      ],
      "text/plain": [
       "            ShortTerm  LongTerm\n",
       "2022-01-06        0.0         0\n",
       "2022-01-07        0.0         0\n",
       "2022-02-01        0.0         0\n",
       "2022-02-21      -12.0         0\n",
       "2022-02-22      -15.0         0"
      ]
     },
     "metadata": {},
     "output_type": "display_data"
    },
    {
     "name": "stdout",
     "output_type": "stream",
     "text": [
      "Closed positions:\n",
      "ABC: 2022-01-05 3 @ $10.00 >> 2022-01-06 -3 @ $9.00 = $-3.00 ST (1 day) washed\n",
      "ABC: 2022-01-05 2 @ $10.00 >> 2022-01-07 -2 @ $8.00 = $-4.00 ST (2 days) washed\n",
      "ABC: 2022-01-07 -5 @ $8.00 >> 2022-02-01 5 @ $10.00 = $-10.00 ST (25 days) washed\n",
      "ABC: 2022-02-01 2 @ $10.00 >> 2022-02-21 -2 @ $9.00 = $-6.00 ST (20+2 days)\n",
      "ABC: 2022-02-01 3 @ $10.00 >> 2022-02-21 -3 @ $9.00 = $-6.00 ST (20+1 days)\n",
      "ABC: 2022-02-21 -5 @ $9.00 >> 2022-02-22 5 @ $10.00 = $-15.00 ST (1+25 days)\n",
      "\n",
      "Open positions: No positions\n"
     ]
    }
   ],
   "source": [
    "# Sell everything and check final accounting\n",
    "date_out = sell_date + pd.Timedelta(days=1)\n",
    "tracker.trade(date_out, 'ABC', 5, price=10)\n",
    "display(tracker.capital_gains_df)\n",
    "print(\"Closed positions:\\n\"+tracker.closed_lots_str)\n",
    "print(\"\\nOpen positions: \"+tracker.open_lots_str)"
   ]
  },
  {
   "cell_type": "markdown",
   "metadata": {},
   "source": [
    "## Example 1.5\n",
    "Loss is washed over multiple repurchases."
   ]
  },
  {
   "cell_type": "code",
   "execution_count": 22,
   "metadata": {},
   "outputs": [
    {
     "data": {
      "text/html": [
       "<div>\n",
       "<style scoped>\n",
       "    .dataframe tbody tr th:only-of-type {\n",
       "        vertical-align: middle;\n",
       "    }\n",
       "\n",
       "    .dataframe tbody tr th {\n",
       "        vertical-align: top;\n",
       "    }\n",
       "\n",
       "    .dataframe thead th {\n",
       "        text-align: right;\n",
       "    }\n",
       "</style>\n",
       "<table border=\"1\" class=\"dataframe\">\n",
       "  <thead>\n",
       "    <tr style=\"text-align: right;\">\n",
       "      <th></th>\n",
       "      <th>ShortTerm</th>\n",
       "      <th>LongTerm</th>\n",
       "    </tr>\n",
       "  </thead>\n",
       "  <tbody>\n",
       "    <tr>\n",
       "      <th>2023-02-10</th>\n",
       "      <td>-300.0</td>\n",
       "      <td>0</td>\n",
       "    </tr>\n",
       "  </tbody>\n",
       "</table>\n",
       "</div>"
      ],
      "text/plain": [
       "            ShortTerm  LongTerm\n",
       "2023-02-10     -300.0         0"
      ]
     },
     "metadata": {},
     "output_type": "display_data"
    },
    {
     "name": "stdout",
     "output_type": "stream",
     "text": [
      "Wash sales:\n",
      "XYZ: 2023-01-15 40 @ $20.00 >> 2023-02-10 -40 @ $15.00 = $-200.00 ST (26 days) washed on 2023-02-25\n",
      "\n",
      "Closed positions:\n",
      "XYZ: 2023-01-15 40 @ $20.00 >> 2023-02-10 -40 @ $15.00 = $-200.00 ST (26 days) washed\n",
      "XYZ: 2023-01-15 60 @ $20.00 >> 2023-02-10 -60 @ $15.00 = $-300.00 ST (26 days)\n",
      "\n",
      "Open positions:\n",
      "XYZ: 40 @ $17.00 (2023-02-25)  Basis $-200.00 term+26 days\n"
     ]
    }
   ],
   "source": [
    "tracker = CapGainsTracker()\n",
    "tracker.trade(pd.Timestamp('2023-01-15'), 'XYZ', shares=100, price=20)\n",
    "tracker.trade(pd.Timestamp('2023-02-10'), 'XYZ', shares=-100, price=15)\n",
    "tracker.trade(pd.Timestamp('2023-02-25'), 'XYZ', shares=40, price=17)\n",
    "display(tracker.capital_gains_df)\n",
    "print(\"Wash sales:\\n\"+tracker.washed_lots_str)\n",
    "print(\"\\nClosed positions:\\n\"+tracker.closed_lots_str)\n",
    "print(\"\\nOpen positions:\\n\"+tracker.open_lots_str)"
   ]
  },
  {
   "cell_type": "code",
   "execution_count": 23,
   "metadata": {},
   "outputs": [
    {
     "data": {
      "text/html": [
       "<div>\n",
       "<style scoped>\n",
       "    .dataframe tbody tr th:only-of-type {\n",
       "        vertical-align: middle;\n",
       "    }\n",
       "\n",
       "    .dataframe tbody tr th {\n",
       "        vertical-align: top;\n",
       "    }\n",
       "\n",
       "    .dataframe thead th {\n",
       "        text-align: right;\n",
       "    }\n",
       "</style>\n",
       "<table border=\"1\" class=\"dataframe\">\n",
       "  <thead>\n",
       "    <tr style=\"text-align: right;\">\n",
       "      <th></th>\n",
       "      <th>ShortTerm</th>\n",
       "      <th>LongTerm</th>\n",
       "    </tr>\n",
       "  </thead>\n",
       "  <tbody>\n",
       "    <tr>\n",
       "      <th>2023-02-10</th>\n",
       "      <td>0.0</td>\n",
       "      <td>0</td>\n",
       "    </tr>\n",
       "  </tbody>\n",
       "</table>\n",
       "</div>"
      ],
      "text/plain": [
       "            ShortTerm  LongTerm\n",
       "2023-02-10        0.0         0"
      ]
     },
     "metadata": {},
     "output_type": "display_data"
    },
    {
     "name": "stdout",
     "output_type": "stream",
     "text": [
      "Wash sales:\n",
      "XYZ: 2023-01-15 40 @ $20.00 >> 2023-02-10 -40 @ $15.00 = $-200.00 ST (26 days) washed on 2023-02-25\n",
      "XYZ: 2023-01-15 60 @ $20.00 >> 2023-02-10 -60 @ $15.00 = $-300.00 ST (26 days) washed on 2023-03-08\n",
      "\n",
      "Open positions:\n",
      "XYZ: 40 @ $17.00 (2023-02-25)  Basis $-200.00 term+26 days\n",
      "XYZ: 60 @ $19.00 (2023-03-08)  Basis $-300.00 term+26 days\n"
     ]
    }
   ],
   "source": [
    "tracker.trade(pd.Timestamp('2023-03-08'), 'XYZ', shares=60, price=19)\n",
    "display(tracker.capital_gains_df)\n",
    "print(\"Wash sales:\\n\"+tracker.washed_lots_str)\n",
    "print(\"\\nOpen positions:\\n\"+tracker.open_lots_str)"
   ]
  },
  {
   "cell_type": "code",
   "execution_count": 24,
   "metadata": {},
   "outputs": [
    {
     "data": {
      "text/html": [
       "<div>\n",
       "<style scoped>\n",
       "    .dataframe tbody tr th:only-of-type {\n",
       "        vertical-align: middle;\n",
       "    }\n",
       "\n",
       "    .dataframe tbody tr th {\n",
       "        vertical-align: top;\n",
       "    }\n",
       "\n",
       "    .dataframe thead th {\n",
       "        text-align: right;\n",
       "    }\n",
       "</style>\n",
       "<table border=\"1\" class=\"dataframe\">\n",
       "  <thead>\n",
       "    <tr style=\"text-align: right;\">\n",
       "      <th></th>\n",
       "      <th>ShortTerm</th>\n",
       "      <th>LongTerm</th>\n",
       "    </tr>\n",
       "  </thead>\n",
       "  <tbody>\n",
       "    <tr>\n",
       "      <th>2023-02-10</th>\n",
       "      <td>0.0</td>\n",
       "      <td>0</td>\n",
       "    </tr>\n",
       "  </tbody>\n",
       "</table>\n",
       "</div>"
      ],
      "text/plain": [
       "            ShortTerm  LongTerm\n",
       "2023-02-10        0.0         0"
      ]
     },
     "metadata": {},
     "output_type": "display_data"
    },
    {
     "name": "stdout",
     "output_type": "stream",
     "text": [
      "Wash sales:\n",
      "XYZ: 2023-01-15 40 @ $20.00 >> 2023-02-10 -40 @ $15.00 = $-200.00 ST (26 days) washed on 2023-02-25\n",
      "XYZ: 2023-01-15 60 @ $20.00 >> 2023-02-10 -60 @ $15.00 = $-300.00 ST (26 days) washed on 2023-03-08\n",
      "\n",
      "Open positions:\n",
      "XYZ: 40 @ $17.00 (2023-02-25)  Basis $-200.00 term+26 days\n",
      "XYZ: 60 @ $19.00 (2023-03-08)  Basis $-300.00 term+26 days\n"
     ]
    }
   ],
   "source": [
    "# Make sure we get the same result if we use buy/sell methods\n",
    "tracker = CapGainsTracker()\n",
    "tracker.buy(pd.Timestamp('2023-01-15'), 'XYZ', 100, price=20)\n",
    "tracker.sell(pd.Timestamp('2023-02-10'), 'XYZ', -100, price=15)\n",
    "tracker.buy(pd.Timestamp('2023-02-25'), 'XYZ', 40, price=17)\n",
    "tracker.buy(pd.Timestamp('2023-03-08'), 'XYZ', 60, price=19)\n",
    "display(tracker.capital_gains_df)\n",
    "print(\"Wash sales:\\n\"+tracker.washed_lots_str)\n",
    "print(\"\\nOpen positions:\\n\"+tracker.open_lots_str)"
   ]
  },
  {
   "cell_type": "markdown",
   "metadata": {},
   "source": [
    "## Example 1.6\n",
    "Washed loss and gain in same period."
   ]
  },
  {
   "cell_type": "code",
   "execution_count": 25,
   "metadata": {},
   "outputs": [
    {
     "data": {
      "text/html": [
       "<div>\n",
       "<style scoped>\n",
       "    .dataframe tbody tr th:only-of-type {\n",
       "        vertical-align: middle;\n",
       "    }\n",
       "\n",
       "    .dataframe tbody tr th {\n",
       "        vertical-align: top;\n",
       "    }\n",
       "\n",
       "    .dataframe thead th {\n",
       "        text-align: right;\n",
       "    }\n",
       "</style>\n",
       "<table border=\"1\" class=\"dataframe\">\n",
       "  <thead>\n",
       "    <tr style=\"text-align: right;\">\n",
       "      <th></th>\n",
       "      <th>ShortTerm</th>\n",
       "      <th>LongTerm</th>\n",
       "    </tr>\n",
       "  </thead>\n",
       "  <tbody>\n",
       "    <tr>\n",
       "      <th>2023-02-10</th>\n",
       "      <td>0.0</td>\n",
       "      <td>0</td>\n",
       "    </tr>\n",
       "    <tr>\n",
       "      <th>2023-03-15</th>\n",
       "      <td>200.0</td>\n",
       "      <td>0</td>\n",
       "    </tr>\n",
       "  </tbody>\n",
       "</table>\n",
       "</div>"
      ],
      "text/plain": [
       "            ShortTerm  LongTerm\n",
       "2023-02-10        0.0         0\n",
       "2023-03-15      200.0         0"
      ]
     },
     "metadata": {},
     "output_type": "display_data"
    },
    {
     "name": "stdout",
     "output_type": "stream",
     "text": [
      "Wash sales:\n",
      "XYZ: 2023-01-15 100 @ $20.00 >> 2023-02-10 -100 @ $15.00 = $-500.00 ST (26 days) washed on 2023-02-25\n",
      "\n",
      "Closed positions:\n",
      "XYZ: 2023-01-15 100 @ $20.00 >> 2023-02-10 -100 @ $15.00 = $-500.00 ST (26 days) washed\n",
      "XYZ: 2023-02-25 100 @ $18.00 >> 2023-03-15 -100 @ $25.00 = $200.00 ST (18+26 days)\n"
     ]
    }
   ],
   "source": [
    "tracker = CapGainsTracker()\n",
    "tracker.buy(pd.Timestamp('2023-01-15'), 'XYZ', 100, price=20)\n",
    "tracker.sell(pd.Timestamp('2023-02-10'), 'XYZ', -100, price=15)\n",
    "tracker.buy(pd.Timestamp('2023-02-25'), 'XYZ', 100, price=18)\n",
    "tracker.sell(pd.Timestamp('2023-03-15'), 'XYZ', 100, price=25)\n",
    "display(tracker.capital_gains_df)\n",
    "print(\"Wash sales:\\n\"+tracker.washed_lots_str)\n",
    "print(\"\\nClosed positions:\\n\"+tracker.closed_lots_str)"
   ]
  },
  {
   "cell_type": "markdown",
   "metadata": {},
   "source": [
    "## Example 1.7a\n",
    "Closing trades that are washed by other prior opening trades."
   ]
  },
  {
   "cell_type": "code",
   "execution_count": 26,
   "metadata": {},
   "outputs": [
    {
     "name": "stdout",
     "output_type": "stream",
     "text": [
      "\n",
      "Closed positions:\n",
      "XYZ: 2023-01-15 100 @ $20.00 >> 2023-02-10 -100 @ $15.00 = $-500.00 ST (26 days) washed\n",
      "\n",
      "Open positions:\n",
      "XYZ: 100 @ $20.00 (2023-01-16)  Basis $-500.00 term+26 days\n"
     ]
    }
   ],
   "source": [
    "tracker = CapGainsTracker()\n",
    "tracker.buy(pd.Timestamp('2023-01-15'), 'XYZ', 100, price=20)\n",
    "tracker.buy(pd.Timestamp('2023-01-16'), 'XYZ', 100, price=20)\n",
    "tracker.sell(pd.Timestamp('2023-02-10'), 'XYZ', -100, price=15)\n",
    "tracker.validate()\n",
    "print(\"\\nClosed positions:\\n\"+tracker.closed_lots_str)\n",
    "print(\"\\nOpen positions:\\n\"+tracker.open_lots_str)"
   ]
  },
  {
   "cell_type": "code",
   "execution_count": 27,
   "metadata": {},
   "outputs": [
    {
     "data": {
      "text/html": [
       "<div>\n",
       "<style scoped>\n",
       "    .dataframe tbody tr th:only-of-type {\n",
       "        vertical-align: middle;\n",
       "    }\n",
       "\n",
       "    .dataframe tbody tr th {\n",
       "        vertical-align: top;\n",
       "    }\n",
       "\n",
       "    .dataframe thead th {\n",
       "        text-align: right;\n",
       "    }\n",
       "</style>\n",
       "<table border=\"1\" class=\"dataframe\">\n",
       "  <thead>\n",
       "    <tr style=\"text-align: right;\">\n",
       "      <th></th>\n",
       "      <th>ShortTerm</th>\n",
       "      <th>LongTerm</th>\n",
       "    </tr>\n",
       "  </thead>\n",
       "  <tbody>\n",
       "    <tr>\n",
       "      <th>2023-02-11</th>\n",
       "      <td>-500.0</td>\n",
       "      <td>0</td>\n",
       "    </tr>\n",
       "  </tbody>\n",
       "</table>\n",
       "</div>"
      ],
      "text/plain": [
       "            ShortTerm  LongTerm\n",
       "2023-02-11     -500.0         0"
      ]
     },
     "metadata": {},
     "output_type": "display_data"
    },
    {
     "name": "stdout",
     "output_type": "stream",
     "text": [
      "\n",
      "Closed positions:\n",
      "XYZ: 2023-01-15 100 @ $20.00 >> 2023-02-10 -100 @ $15.00 = $-500.00 ST (26 days) washed\n",
      "XYZ: 2023-01-16 50 @ $20.00 >> 2023-02-11 -50 @ $15.00 = $-500.00 ST (26+26 days)\n",
      "\n",
      "Open positions:\n",
      "XYZ: 50 @ $20.00 (2023-01-16)  Basis $-250.00 term+26 days\n"
     ]
    }
   ],
   "source": [
    "tracker.sell(pd.Timestamp('2023-02-11'), 'XYZ', -50, price=15)\n",
    "display(tracker.capital_gains_df)\n",
    "tracker.validate()\n",
    "print(\"\\nClosed positions:\\n\"+tracker.closed_lots_str)\n",
    "print(\"\\nOpen positions:\\n\"+tracker.open_lots_str)"
   ]
  },
  {
   "cell_type": "code",
   "execution_count": 28,
   "metadata": {},
   "outputs": [
    {
     "name": "stdout",
     "output_type": "stream",
     "text": [
      "Capital gains: $-500.0\n",
      "Carried gains: $-250.0\n",
      "Price gains on closed trades: $-750.0\n"
     ]
    }
   ],
   "source": [
    "print(f'Capital gains: ${tracker.capital_gains_df.sum().sum()}')\n",
    "print(f'Carried gains: ${sum(position.basis_add for position in tracker.open_lots_list)}')\n",
    "print(f'Price gains on closed trades: ${sum(trade.price_pnl for trade in tracker.closed_lots_list)}')"
   ]
  },
  {
   "cell_type": "markdown",
   "metadata": {},
   "source": [
    "## Example 1.7b\n",
    "Partial washes of closing losses due to previous opens."
   ]
  },
  {
   "cell_type": "code",
   "execution_count": 29,
   "metadata": {},
   "outputs": [
    {
     "name": "stdout",
     "output_type": "stream",
     "text": [
      "\n",
      "Closed positions:\n",
      "XYZ: 2023-01-15 20 @ $20.00 >> 2023-02-10 -20 @ $16.00 = $-80.00 ST (26 days) washed\n",
      "XYZ: 2023-01-15 20 @ $20.00 >> 2023-02-11 -20 @ $15.00 = $-100.00 ST (27 days) washed\n",
      "\n",
      "Open positions:\n",
      "XYZ: 20 @ $20.00 (2023-01-15) \n",
      "XYZ: 10 @ $21.00 (2023-01-17) \n",
      "XYZ: 40 @ $22.00 (2023-01-19) \n",
      "XYZ: 20 @ $21.00 (2023-01-17)  Basis $-80.00 term+26 days\n",
      "XYZ: 20 @ $21.00 (2023-01-17)  Basis $-100.00 term+27 days\n"
     ]
    }
   ],
   "source": [
    "tracker = CapGainsTracker()\n",
    "tracker.buy(pd.Timestamp('2023-01-15'), 'XYZ', 60, price=20)\n",
    "tracker.buy(pd.Timestamp('2023-01-17'), 'XYZ', 50, price=21)\n",
    "tracker.buy(pd.Timestamp('2023-01-19'), 'XYZ', 40, price=22)\n",
    "tracker.sell(pd.Timestamp('2023-02-10'), 'XYZ', shares_to_sell=-20, price=16)\n",
    "tracker.validate()\n",
    "# print(\"\\nOpen positions:\\n\"+tracker.Positions)\n",
    "tracker.sell(pd.Timestamp('2023-02-11'), 'XYZ', -20, price=15)\n",
    "# print(\"\\nOpen positions:\\n\"+tracker.Positions)\n",
    "tracker.validate()\n",
    "#print(\"Wash sales:\\n\"+tracker.WashTrades)\n",
    "print(\"\\nClosed positions:\\n\"+tracker.closed_lots_str)\n",
    "print(\"\\nOpen positions:\\n\"+tracker.open_lots_str)\n",
    "#print(f'\\nTotal open shares = {tracker.get_position(\"XYZ\")}')"
   ]
  },
  {
   "cell_type": "code",
   "execution_count": 30,
   "metadata": {},
   "outputs": [
    {
     "name": "stdout",
     "output_type": "stream",
     "text": [
      "\n",
      "Closed positions:\n",
      "XYZ: 2023-01-15 20 @ $20.00 >> 2023-02-10 -20 @ $16.00 = $-80.00 ST (26 days) washed\n",
      "XYZ: 2023-01-15 20 @ $20.00 >> 2023-02-11 -20 @ $15.00 = $-100.00 ST (27 days) washed\n",
      "XYZ: 2023-01-15 20 @ $20.00 >> 2023-02-12 -20 @ $14.00 = $-120.00 ST (28 days) washed\n",
      "XYZ: 2023-01-17 10 @ $21.00 >> 2023-02-12 -10 @ $14.00 = $-130.00 ST (26+28 days) washed\n",
      "XYZ: 2023-01-19 10 @ $22.00 >> 2023-02-12 -10 @ $14.00 = $-80.00 ST (24 days) washed\n",
      "\n",
      "Open positions:\n",
      "XYZ: 10 @ $22.00 (2023-01-19) \n",
      "XYZ: 10 @ $21.00 (2023-01-17)  Basis $-40.00 term+26 days\n",
      "XYZ: 20 @ $21.00 (2023-01-17)  Basis $-100.00 term+27 days\n",
      "XYZ: 10 @ $22.00 (2023-01-19)  Basis $-60.00 term+28 days\n",
      "XYZ: 10 @ $22.00 (2023-01-19)  Basis $-130.00 term+54 days\n",
      "XYZ: 10 @ $21.00 (2023-01-17)  Basis $-120.00 term+50 days\n",
      "\n",
      "Total open shares = 70.0\n"
     ]
    }
   ],
   "source": [
    "tracker.sell(pd.Timestamp('2023-02-12'), 'XYZ', -40, price=14)\n",
    "tracker.validate()\n",
    "#print(\"Wash sales:\\n\"+tracker.WashTrades)\n",
    "print(\"\\nClosed positions:\\n\"+tracker.closed_lots_str)\n",
    "print(\"\\nOpen positions:\\n\"+tracker.open_lots_str)\n",
    "print(f'\\nTotal open shares = {tracker.get_position(\"XYZ\")}')"
   ]
  },
  {
   "cell_type": "markdown",
   "metadata": {},
   "source": [
    "## Example 1.7c\n",
    "Same as 1.7b but selling short."
   ]
  },
  {
   "cell_type": "code",
   "execution_count": 31,
   "metadata": {},
   "outputs": [
    {
     "name": "stdout",
     "output_type": "stream",
     "text": [
      "\n",
      "Closed positions:\n",
      "XYZ: 2023-01-15 -20 @ $16.00 >> 2023-02-10 20 @ $20.00 = $-80.00 ST (26 days) washed\n",
      "XYZ: 2023-01-15 -20 @ $16.00 >> 2023-02-11 20 @ $21.00 = $-100.00 ST (27 days) washed\n",
      "\n",
      "Open positions:\n",
      "XYZ: -20 @ $16.00 (2023-01-15) \n",
      "XYZ: -10 @ $15.00 (2023-01-17) \n",
      "XYZ: -40 @ $14.00 (2023-01-19) \n",
      "XYZ: -20 @ $15.00 (2023-01-17)  Basis $-80.00 term+26 days\n",
      "XYZ: -20 @ $15.00 (2023-01-17)  Basis $-100.00 term+27 days\n"
     ]
    }
   ],
   "source": [
    "tracker = CapGainsTracker()\n",
    "tracker.trade(pd.Timestamp('2023-01-15'), 'XYZ', -60, price=16)\n",
    "tracker.trade(pd.Timestamp('2023-01-17'), 'XYZ', -50, price=15)\n",
    "tracker.trade(pd.Timestamp('2023-01-19'), 'XYZ', -40, price=14)\n",
    "tracker.trade(pd.Timestamp('2023-02-10'), 'XYZ', 20, price=20)\n",
    "tracker.validate()\n",
    "tracker.trade(pd.Timestamp('2023-02-11'), 'XYZ', 20, price=21)\n",
    "tracker.validate()\n",
    "#print(\"Wash sales:\\n\"+tracker.WashTrades)\n",
    "print(\"\\nClosed positions:\\n\"+tracker.closed_lots_str)\n",
    "print(\"\\nOpen positions:\\n\"+tracker.open_lots_str)\n",
    "#print(f'\\nTotal open shares = {tracker.get_position(\"XYZ\")}')"
   ]
  },
  {
   "cell_type": "code",
   "execution_count": 32,
   "metadata": {},
   "outputs": [
    {
     "name": "stdout",
     "output_type": "stream",
     "text": [
      "\n",
      "Closed positions:\n",
      "XYZ: 2023-01-15 -20 @ $16.00 >> 2023-02-10 20 @ $20.00 = $-80.00 ST (26 days) washed\n",
      "XYZ: 2023-01-15 -20 @ $16.00 >> 2023-02-11 20 @ $21.00 = $-100.00 ST (27 days) washed\n",
      "XYZ: 2023-01-15 -20 @ $16.00 >> 2023-02-12 20 @ $22.00 = $-120.00 ST (28 days) washed\n",
      "XYZ: 2023-01-17 -10 @ $15.00 >> 2023-02-12 10 @ $22.00 = $-130.00 ST (26+28 days) washed\n",
      "XYZ: 2023-01-19 -10 @ $14.00 >> 2023-02-12 10 @ $22.00 = $-80.00 ST (24 days) washed\n",
      "\n",
      "Open positions:\n",
      "XYZ: -10 @ $14.00 (2023-01-19) \n",
      "XYZ: -10 @ $15.00 (2023-01-17)  Basis $-40.00 term+26 days\n",
      "XYZ: -20 @ $15.00 (2023-01-17)  Basis $-100.00 term+27 days\n",
      "XYZ: -10 @ $14.00 (2023-01-19)  Basis $-60.00 term+28 days\n",
      "XYZ: -10 @ $14.00 (2023-01-19)  Basis $-130.00 term+54 days\n",
      "XYZ: -10 @ $15.00 (2023-01-17)  Basis $-120.00 term+50 days\n",
      "\n",
      "Total open shares = -70.0\n"
     ]
    }
   ],
   "source": [
    "tracker.trade(pd.Timestamp('2023-02-12'), 'XYZ', 40, price=22)\n",
    "tracker.validate()\n",
    "#print(\"Wash sales:\\n\"+tracker.WashTrades)\n",
    "print(\"\\nClosed positions:\\n\"+tracker.closed_lots_str)\n",
    "print(\"\\nOpen positions:\\n\"+tracker.open_lots_str)\n",
    "print(f'\\nTotal open shares = {tracker.get_position(\"XYZ\")}')"
   ]
  },
  {
   "cell_type": "markdown",
   "metadata": {},
   "source": [
    "# 2. Distribution Tracker\n",
    "The `DistributionTracker` is a `CapGainsTracker` that adds tax characterization of distributions.  Distributions on equities are most commonly dividends, but they can also consist of capital gains or return of capital.\n",
    "\n",
    "Taxation of dividends falls into three categories: Some, like dividends paid from municipal bond funds, are Tax-Exempt.  Regular dividends are taxed as ordinary income unless they are Qualified.  Qualified dividends are taxed as long-term capital gains.  A Regular dividend is \"Qualified\" if, among other requirements, the owner satisfies the **Holding period** described on p.28 of IRS Publication 550.  For most eligible dividends this requirement is that the owner holds the stock for more than 60 calendar days of the 121 calendar days centered on the stock's ex-dividend date.  (Due to this awkward rule, we can't be sure of the characterization of regular dividends until up to 60 days after the ex-date.  And for some preferred stock dividends it's worse: the Holding period requirement is *more than 90 days during the 181-day period centered on the ex-date*.)  Primary reference for this is [IRC Sec. 1(h)(11)](https://www.law.cornell.edu/uscode/text/26/1#h_11).\n",
    "\n",
    "The *ex-dividend date* is the date on which one must own the share to receive the dividend.  In effect, before the market opens on the ex-date the entity paying the dividend records who owns each share, and the owner at that moment is who will receive the dividend.  (Actual payment of the dividend typically takes place a few weeks later.)  All else equal, when the market opens for trading on the ex-date the stock will begin trading at a price reduced by the amount of the dividend.  The ex-date is declared in advance, along with the amount of the dividend.\n",
    "\n",
    "**Example:** Company ABC declares a $1 dividend with an ex-date of Friday, March 15.  If you want to receive that dividend then you need to buy and hold shares by the close of the previous market day (Thursday, March 14).  And if the share price at the close of March 14 is $10 then you would expect the shares to trade at $9 when the market opens on March 15.\n",
    "\n",
    "**Shorts:** If you hold a short position on the ex-date then the asset lender will require you to make a *payment-in-lieu* (PIL) of the dividends.  Payments in lieu of dividends qualify as an *Interest Expense* if the short position is held open for more than 45 days.  Otherwise the PIL is added to the cost basis of the short position.\n",
    "\n",
    "The `DistributionTracker` requires distribution data, which it takes in the form of a DataFrame structured as follows:\n",
    "* Rows are MultiIndexed by `Ticker`, `Date`, and `Type`.\n",
    "* The value column is the amount of the `Distribution`.\n",
    "* `Date` is the ex-date of the distribution.\n",
    "* `Type` is a single letter describing the type of distribution and must be one of the following:\n",
    "    * [D]ividend (regular)\n",
    "    * [P]referred (\"due to periods totaling more than 366 days\")\n",
    "    * [N]ot qualified (i.e., ineligible to be qualified regardless of holding period)\n",
    "    * [E]xempt (tax-exempt)\n",
    "    * [R]eturn of Capital (also tax-exempt)\n",
    "    * [L]ong-Term Capital Gain\n",
    "    * [S]hort-Term Capital Gain\n",
    "\n",
    "Following is a sample of distribution data prepared this way.  Note that `NEA` is a municipal bond fund, so its dividends are exempt.  `RA` is a regular bond fund, so its dividends are regular:"
   ]
  },
  {
   "cell_type": "code",
   "execution_count": 33,
   "metadata": {},
   "outputs": [
    {
     "data": {
      "text/html": [
       "<div>\n",
       "<style scoped>\n",
       "    .dataframe tbody tr th:only-of-type {\n",
       "        vertical-align: middle;\n",
       "    }\n",
       "\n",
       "    .dataframe tbody tr th {\n",
       "        vertical-align: top;\n",
       "    }\n",
       "\n",
       "    .dataframe thead th {\n",
       "        text-align: right;\n",
       "    }\n",
       "</style>\n",
       "<table border=\"1\" class=\"dataframe\">\n",
       "  <thead>\n",
       "    <tr style=\"text-align: right;\">\n",
       "      <th></th>\n",
       "      <th></th>\n",
       "      <th></th>\n",
       "      <th>Distribution</th>\n",
       "    </tr>\n",
       "    <tr>\n",
       "      <th>Ticker</th>\n",
       "      <th>Date</th>\n",
       "      <th>Type</th>\n",
       "      <th></th>\n",
       "    </tr>\n",
       "  </thead>\n",
       "  <tbody>\n",
       "    <tr>\n",
       "      <th rowspan=\"5\" valign=\"top\">NEA</th>\n",
       "      <th>2022-01-13</th>\n",
       "      <th>E</th>\n",
       "      <td>0.058490</td>\n",
       "    </tr>\n",
       "    <tr>\n",
       "      <th>2022-02-14</th>\n",
       "      <th>E</th>\n",
       "      <td>0.058553</td>\n",
       "    </tr>\n",
       "    <tr>\n",
       "      <th>2022-03-14</th>\n",
       "      <th>E</th>\n",
       "      <td>0.058494</td>\n",
       "    </tr>\n",
       "    <tr>\n",
       "      <th>2022-04-13</th>\n",
       "      <th>E</th>\n",
       "      <td>0.052452</td>\n",
       "    </tr>\n",
       "    <tr>\n",
       "      <th>2022-05-12</th>\n",
       "      <th>E</th>\n",
       "      <td>0.052553</td>\n",
       "    </tr>\n",
       "  </tbody>\n",
       "</table>\n",
       "</div>"
      ],
      "text/plain": [
       "                        Distribution\n",
       "Ticker Date       Type              \n",
       "NEA    2022-01-13 E         0.058490\n",
       "       2022-02-14 E         0.058553\n",
       "       2022-03-14 E         0.058494\n",
       "       2022-04-13 E         0.052452\n",
       "       2022-05-12 E         0.052553"
      ]
     },
     "metadata": {},
     "output_type": "display_data"
    },
    {
     "data": {
      "text/html": [
       "<div>\n",
       "<style scoped>\n",
       "    .dataframe tbody tr th:only-of-type {\n",
       "        vertical-align: middle;\n",
       "    }\n",
       "\n",
       "    .dataframe tbody tr th {\n",
       "        vertical-align: top;\n",
       "    }\n",
       "\n",
       "    .dataframe thead th {\n",
       "        text-align: right;\n",
       "    }\n",
       "</style>\n",
       "<table border=\"1\" class=\"dataframe\">\n",
       "  <thead>\n",
       "    <tr style=\"text-align: right;\">\n",
       "      <th></th>\n",
       "      <th></th>\n",
       "      <th></th>\n",
       "      <th>Distribution</th>\n",
       "    </tr>\n",
       "    <tr>\n",
       "      <th>Ticker</th>\n",
       "      <th>Date</th>\n",
       "      <th>Type</th>\n",
       "      <th></th>\n",
       "    </tr>\n",
       "  </thead>\n",
       "  <tbody>\n",
       "    <tr>\n",
       "      <th rowspan=\"5\" valign=\"top\">RA</th>\n",
       "      <th>2022-01-18</th>\n",
       "      <th>D</th>\n",
       "      <td>0.199041</td>\n",
       "    </tr>\n",
       "    <tr>\n",
       "      <th>2022-02-08</th>\n",
       "      <th>D</th>\n",
       "      <td>0.198933</td>\n",
       "    </tr>\n",
       "    <tr>\n",
       "      <th>2022-03-15</th>\n",
       "      <th>D</th>\n",
       "      <td>0.199014</td>\n",
       "    </tr>\n",
       "    <tr>\n",
       "      <th>2022-04-12</th>\n",
       "      <th>D</th>\n",
       "      <td>0.199019</td>\n",
       "    </tr>\n",
       "    <tr>\n",
       "      <th>2022-05-10</th>\n",
       "      <th>D</th>\n",
       "      <td>0.199019</td>\n",
       "    </tr>\n",
       "  </tbody>\n",
       "</table>\n",
       "</div>"
      ],
      "text/plain": [
       "                        Distribution\n",
       "Ticker Date       Type              \n",
       "RA     2022-01-18 D         0.199041\n",
       "       2022-02-08 D         0.198933\n",
       "       2022-03-15 D         0.199014\n",
       "       2022-04-12 D         0.199019\n",
       "       2022-05-10 D         0.199019"
      ]
     },
     "metadata": {},
     "output_type": "display_data"
    }
   ],
   "source": [
    "import pandas as pd\n",
    "distribution_data = pd.read_csv(r'tests/DistributionData.csv',\n",
    "                                index_col=[0, 1, 2], parse_dates=[1]).sort_index()\n",
    "display(distribution_data[:5])  # First stock is NEA\n",
    "display(distribution_data[distribution_data.index.get_level_values(0)=='RA'][:5])"
   ]
  },
  {
   "cell_type": "markdown",
   "metadata": {},
   "source": [
    "## Example 2.1\n",
    "Buy and hold for exactly 60 days a single share of a stock that pays regular dividends.  Dividends will not be qualified."
   ]
  },
  {
   "cell_type": "code",
   "execution_count": 34,
   "metadata": {},
   "outputs": [
    {
     "data": {
      "text/html": [
       "<div>\n",
       "<style scoped>\n",
       "    .dataframe tbody tr th:only-of-type {\n",
       "        vertical-align: middle;\n",
       "    }\n",
       "\n",
       "    .dataframe tbody tr th {\n",
       "        vertical-align: top;\n",
       "    }\n",
       "\n",
       "    .dataframe thead th {\n",
       "        text-align: right;\n",
       "    }\n",
       "</style>\n",
       "<table border=\"1\" class=\"dataframe\">\n",
       "  <thead>\n",
       "    <tr style=\"text-align: right;\">\n",
       "      <th></th>\n",
       "      <th>Regular</th>\n",
       "    </tr>\n",
       "  </thead>\n",
       "  <tbody>\n",
       "    <tr>\n",
       "      <th>2022-01-18</th>\n",
       "      <td>0.199041</td>\n",
       "    </tr>\n",
       "    <tr>\n",
       "      <th>2022-02-08</th>\n",
       "      <td>0.198933</td>\n",
       "    </tr>\n",
       "  </tbody>\n",
       "</table>\n",
       "</div>"
      ],
      "text/plain": [
       "             Regular\n",
       "2022-01-18  0.199041\n",
       "2022-02-08  0.198933"
      ]
     },
     "execution_count": 34,
     "metadata": {},
     "output_type": "execute_result"
    }
   ],
   "source": [
    "from tax_tracker import DistributionTracker\n",
    "tracker = DistributionTracker(distribution_data)\n",
    "buy_date = pd.Timestamp('2022-01-05')\n",
    "tracker.trade(buy_date, 'RA', shares=1, price=21)\n",
    "sell_date = buy_date + pd.Timedelta(days=60)\n",
    "tracker.trade(sell_date, 'RA', shares=-1, price=21)\n",
    "tracker.validate()\n",
    "tracker.dividends_df"
   ]
  },
  {
   "cell_type": "markdown",
   "metadata": {},
   "source": [
    "Hold for more than 60 days and regular dividends are qualified:"
   ]
  },
  {
   "cell_type": "code",
   "execution_count": 35,
   "metadata": {},
   "outputs": [
    {
     "data": {
      "text/html": [
       "<div>\n",
       "<style scoped>\n",
       "    .dataframe tbody tr th:only-of-type {\n",
       "        vertical-align: middle;\n",
       "    }\n",
       "\n",
       "    .dataframe tbody tr th {\n",
       "        vertical-align: top;\n",
       "    }\n",
       "\n",
       "    .dataframe thead th {\n",
       "        text-align: right;\n",
       "    }\n",
       "</style>\n",
       "<table border=\"1\" class=\"dataframe\">\n",
       "  <thead>\n",
       "    <tr style=\"text-align: right;\">\n",
       "      <th></th>\n",
       "      <th>Qualified</th>\n",
       "    </tr>\n",
       "  </thead>\n",
       "  <tbody>\n",
       "    <tr>\n",
       "      <th>2022-01-18</th>\n",
       "      <td>0.199041</td>\n",
       "    </tr>\n",
       "    <tr>\n",
       "      <th>2022-02-08</th>\n",
       "      <td>0.198933</td>\n",
       "    </tr>\n",
       "  </tbody>\n",
       "</table>\n",
       "</div>"
      ],
      "text/plain": [
       "            Qualified\n",
       "2022-01-18   0.199041\n",
       "2022-02-08   0.198933"
      ]
     },
     "execution_count": 35,
     "metadata": {},
     "output_type": "execute_result"
    }
   ],
   "source": [
    "from tax_tracker import DistributionTracker\n",
    "tracker = DistributionTracker(distribution_data)\n",
    "buy_date = pd.Timestamp('2022-01-05')\n",
    "tracker.trade(buy_date, 'RA', shares=1, price=21)\n",
    "sell_date = buy_date + pd.Timedelta(days=61)\n",
    "tracker.trade(sell_date, 'RA', shares=-1, price=21)\n",
    "tracker.validate()\n",
    "tracker.dividends_df"
   ]
  },
  {
   "cell_type": "markdown",
   "metadata": {},
   "source": [
    "Now try both together, and throw in an exempt position while we're at it:"
   ]
  },
  {
   "cell_type": "code",
   "execution_count": 36,
   "metadata": {},
   "outputs": [
    {
     "data": {
      "text/html": [
       "<div>\n",
       "<style scoped>\n",
       "    .dataframe tbody tr th:only-of-type {\n",
       "        vertical-align: middle;\n",
       "    }\n",
       "\n",
       "    .dataframe tbody tr th {\n",
       "        vertical-align: top;\n",
       "    }\n",
       "\n",
       "    .dataframe thead th {\n",
       "        text-align: right;\n",
       "    }\n",
       "</style>\n",
       "<table border=\"1\" class=\"dataframe\">\n",
       "  <thead>\n",
       "    <tr style=\"text-align: right;\">\n",
       "      <th></th>\n",
       "      <th>Regular</th>\n",
       "      <th>Qualified</th>\n",
       "      <th>Exempt</th>\n",
       "    </tr>\n",
       "  </thead>\n",
       "  <tbody>\n",
       "    <tr>\n",
       "      <th>2022-01-13</th>\n",
       "      <td>0.000000</td>\n",
       "      <td>0.000000</td>\n",
       "      <td>0.058490</td>\n",
       "    </tr>\n",
       "    <tr>\n",
       "      <th>2022-01-18</th>\n",
       "      <td>0.199041</td>\n",
       "      <td>0.199041</td>\n",
       "      <td>0.000000</td>\n",
       "    </tr>\n",
       "    <tr>\n",
       "      <th>2022-02-08</th>\n",
       "      <td>0.198933</td>\n",
       "      <td>0.198933</td>\n",
       "      <td>0.000000</td>\n",
       "    </tr>\n",
       "    <tr>\n",
       "      <th>2022-02-14</th>\n",
       "      <td>0.000000</td>\n",
       "      <td>0.000000</td>\n",
       "      <td>0.058553</td>\n",
       "    </tr>\n",
       "  </tbody>\n",
       "</table>\n",
       "</div>"
      ],
      "text/plain": [
       "             Regular  Qualified    Exempt\n",
       "2022-01-13  0.000000   0.000000  0.058490\n",
       "2022-01-18  0.199041   0.199041  0.000000\n",
       "2022-02-08  0.198933   0.198933  0.000000\n",
       "2022-02-14  0.000000   0.000000  0.058553"
      ]
     },
     "execution_count": 36,
     "metadata": {},
     "output_type": "execute_result"
    }
   ],
   "source": [
    "from tax_tracker import DistributionTracker\n",
    "tracker = DistributionTracker(distribution_data)\n",
    "buy_date = pd.Timestamp('2022-01-05')\n",
    "tracker.trade(buy_date, 'RA', shares=2, price=21)\n",
    "tracker.trade(buy_date, 'NEA', shares=1, price=11)\n",
    "sell_date = buy_date + pd.Timedelta(days=60)\n",
    "tracker.trade(sell_date, 'RA', shares=-1, price=21)\n",
    "tracker.trade(sell_date+pd.Timedelta(days=1), 'RA', shares=-1, price=21)\n",
    "tracker.validate()\n",
    "tracker.dividends_df"
   ]
  },
  {
   "cell_type": "markdown",
   "metadata": {},
   "source": [
    "## Example 2.2\n",
    "While short a stock, we make payments-in-lieu (PIL) of dividends.  Initially accounted as capital gains, these become expenses if the short is held for more than 45 days.\n",
    "\n",
    "In this example we'll short 2 shares, covering 1 share after 45 days.  At that point PIL on both shares are accounted to ShortTerm capital gains.\n",
    "\n",
    "When we cover the second share after more than 45 days its PIL will instead appear as an interest Expense."
   ]
  },
  {
   "cell_type": "code",
   "execution_count": 37,
   "metadata": {},
   "outputs": [
    {
     "data": {
      "text/html": [
       "<div>\n",
       "<style scoped>\n",
       "    .dataframe tbody tr th:only-of-type {\n",
       "        vertical-align: middle;\n",
       "    }\n",
       "\n",
       "    .dataframe tbody tr th {\n",
       "        vertical-align: top;\n",
       "    }\n",
       "\n",
       "    .dataframe thead th {\n",
       "        text-align: right;\n",
       "    }\n",
       "</style>\n",
       "<table border=\"1\" class=\"dataframe\">\n",
       "  <thead>\n",
       "    <tr style=\"text-align: right;\">\n",
       "      <th></th>\n",
       "      <th>PayInLieu</th>\n",
       "    </tr>\n",
       "  </thead>\n",
       "  <tbody>\n",
       "    <tr>\n",
       "      <th>2022-01-13</th>\n",
       "      <td>-0.116980</td>\n",
       "    </tr>\n",
       "    <tr>\n",
       "      <th>2022-02-14</th>\n",
       "      <td>-0.117106</td>\n",
       "    </tr>\n",
       "  </tbody>\n",
       "</table>\n",
       "</div>"
      ],
      "text/plain": [
       "            PayInLieu\n",
       "2022-01-13  -0.116980\n",
       "2022-02-14  -0.117106"
      ]
     },
     "metadata": {},
     "output_type": "display_data"
    },
    {
     "data": {
      "text/html": [
       "<div>\n",
       "<style scoped>\n",
       "    .dataframe tbody tr th:only-of-type {\n",
       "        vertical-align: middle;\n",
       "    }\n",
       "\n",
       "    .dataframe tbody tr th {\n",
       "        vertical-align: top;\n",
       "    }\n",
       "\n",
       "    .dataframe thead th {\n",
       "        text-align: right;\n",
       "    }\n",
       "</style>\n",
       "<table border=\"1\" class=\"dataframe\">\n",
       "  <thead>\n",
       "    <tr style=\"text-align: right;\">\n",
       "      <th></th>\n",
       "      <th>ShortTerm</th>\n",
       "    </tr>\n",
       "  </thead>\n",
       "  <tbody>\n",
       "    <tr>\n",
       "      <th>2022-01-13</th>\n",
       "      <td>-0.116980</td>\n",
       "    </tr>\n",
       "    <tr>\n",
       "      <th>2022-02-14</th>\n",
       "      <td>-0.117106</td>\n",
       "    </tr>\n",
       "  </tbody>\n",
       "</table>\n",
       "</div>"
      ],
      "text/plain": [
       "            ShortTerm\n",
       "2022-01-13  -0.116980\n",
       "2022-02-14  -0.117106"
      ]
     },
     "metadata": {},
     "output_type": "display_data"
    }
   ],
   "source": [
    "tracker = DistributionTracker(distribution_data)\n",
    "start_date = pd.Timestamp('2022-01-05')\n",
    "tracker.trade(start_date, 'NEA', shares=-2, price=11)\n",
    "cover_date = start_date + pd.Timedelta(days=45)\n",
    "tracker.trade(cover_date, 'NEA', 1, price=11)\n",
    "display(tracker.dividends_df)\n",
    "display(tracker.taxable_cashflows_df)"
   ]
  },
  {
   "cell_type": "code",
   "execution_count": 38,
   "metadata": {},
   "outputs": [
    {
     "name": "stdout",
     "output_type": "stream",
     "text": [
      "Now covering the other share after more than 45 days, PIL account to Expenses:\n"
     ]
    },
    {
     "data": {
      "text/html": [
       "<div>\n",
       "<style scoped>\n",
       "    .dataframe tbody tr th:only-of-type {\n",
       "        vertical-align: middle;\n",
       "    }\n",
       "\n",
       "    .dataframe tbody tr th {\n",
       "        vertical-align: top;\n",
       "    }\n",
       "\n",
       "    .dataframe thead th {\n",
       "        text-align: right;\n",
       "    }\n",
       "</style>\n",
       "<table border=\"1\" class=\"dataframe\">\n",
       "  <thead>\n",
       "    <tr style=\"text-align: right;\">\n",
       "      <th></th>\n",
       "      <th>PayInLieu</th>\n",
       "      <th>Expense</th>\n",
       "    </tr>\n",
       "  </thead>\n",
       "  <tbody>\n",
       "    <tr>\n",
       "      <th>2022-01-13</th>\n",
       "      <td>-0.058490</td>\n",
       "      <td>-0.058490</td>\n",
       "    </tr>\n",
       "    <tr>\n",
       "      <th>2022-02-14</th>\n",
       "      <td>-0.058553</td>\n",
       "      <td>-0.058553</td>\n",
       "    </tr>\n",
       "  </tbody>\n",
       "</table>\n",
       "</div>"
      ],
      "text/plain": [
       "            PayInLieu   Expense\n",
       "2022-01-13  -0.058490 -0.058490\n",
       "2022-02-14  -0.058553 -0.058553"
      ]
     },
     "metadata": {},
     "output_type": "display_data"
    },
    {
     "data": {
      "text/html": [
       "<div>\n",
       "<style scoped>\n",
       "    .dataframe tbody tr th:only-of-type {\n",
       "        vertical-align: middle;\n",
       "    }\n",
       "\n",
       "    .dataframe tbody tr th {\n",
       "        vertical-align: top;\n",
       "    }\n",
       "\n",
       "    .dataframe thead th {\n",
       "        text-align: right;\n",
       "    }\n",
       "</style>\n",
       "<table border=\"1\" class=\"dataframe\">\n",
       "  <thead>\n",
       "    <tr style=\"text-align: right;\">\n",
       "      <th></th>\n",
       "      <th>Expense</th>\n",
       "      <th>ShortTerm</th>\n",
       "    </tr>\n",
       "  </thead>\n",
       "  <tbody>\n",
       "    <tr>\n",
       "      <th>2022-01-13</th>\n",
       "      <td>-0.058490</td>\n",
       "      <td>-0.058490</td>\n",
       "    </tr>\n",
       "    <tr>\n",
       "      <th>2022-02-14</th>\n",
       "      <td>-0.058553</td>\n",
       "      <td>-0.058553</td>\n",
       "    </tr>\n",
       "  </tbody>\n",
       "</table>\n",
       "</div>"
      ],
      "text/plain": [
       "             Expense  ShortTerm\n",
       "2022-01-13 -0.058490  -0.058490\n",
       "2022-02-14 -0.058553  -0.058553"
      ]
     },
     "metadata": {},
     "output_type": "display_data"
    }
   ],
   "source": [
    "tracker.trade(cover_date+pd.Timedelta(days=1), 'NEA', 1, price=11)\n",
    "tracker.validate()\n",
    "print('Now covering the other share after more than 45 days, PIL account to Expenses:')\n",
    "display(tracker.dividends_df)\n",
    "display(tracker.taxable_cashflows_df)\n",
    "for divs in tracker.daily_dividends.values():\n",
    "    assert divs['PayInLieu'] == divs['Expense'], 'PIL correct'"
   ]
  },
  {
   "cell_type": "markdown",
   "metadata": {},
   "source": [
    "## Example 2.3\n",
    "Buy and hold one share for more than 60 days.  Later buy a second share and continue holding both for more than 60 days.  All their dividends should be Qualified."
   ]
  },
  {
   "cell_type": "code",
   "execution_count": 39,
   "metadata": {},
   "outputs": [
    {
     "name": "stdout",
     "output_type": "stream",
     "text": [
      "Second share bought on 2022-03-06\n"
     ]
    },
    {
     "data": {
      "text/html": [
       "<div>\n",
       "<style scoped>\n",
       "    .dataframe tbody tr th:only-of-type {\n",
       "        vertical-align: middle;\n",
       "    }\n",
       "\n",
       "    .dataframe tbody tr th {\n",
       "        vertical-align: top;\n",
       "    }\n",
       "\n",
       "    .dataframe thead th {\n",
       "        text-align: right;\n",
       "    }\n",
       "</style>\n",
       "<table border=\"1\" class=\"dataframe\">\n",
       "  <thead>\n",
       "    <tr style=\"text-align: right;\">\n",
       "      <th></th>\n",
       "      <th>Qualified</th>\n",
       "    </tr>\n",
       "  </thead>\n",
       "  <tbody>\n",
       "    <tr>\n",
       "      <th>2022-01-18</th>\n",
       "      <td>0.199041</td>\n",
       "    </tr>\n",
       "    <tr>\n",
       "      <th>2022-02-08</th>\n",
       "      <td>0.198933</td>\n",
       "    </tr>\n",
       "    <tr>\n",
       "      <th>2022-03-15</th>\n",
       "      <td>0.398029</td>\n",
       "    </tr>\n",
       "    <tr>\n",
       "      <th>2022-04-12</th>\n",
       "      <td>0.398037</td>\n",
       "    </tr>\n",
       "    <tr>\n",
       "      <th>2022-05-10</th>\n",
       "      <td>0.398037</td>\n",
       "    </tr>\n",
       "  </tbody>\n",
       "</table>\n",
       "</div>"
      ],
      "text/plain": [
       "            Qualified\n",
       "2022-01-18   0.199041\n",
       "2022-02-08   0.198933\n",
       "2022-03-15   0.398029\n",
       "2022-04-12   0.398037\n",
       "2022-05-10   0.398037"
      ]
     },
     "execution_count": 39,
     "metadata": {},
     "output_type": "execute_result"
    }
   ],
   "source": [
    "tracker = DistributionTracker(distribution_data)\n",
    "start_date = pd.Timestamp('2022-01-05')\n",
    "tracker.buy(start_date, 'RA', shares=1, price=21)\n",
    "second_buy_date = start_date + pd.Timedelta(days=60)\n",
    "tracker.buy(second_buy_date, 'RA', shares=1, price=21)\n",
    "print(f'Second share bought on {second_buy_date.date()}')\n",
    "# Run the tracker until June 1, 2022\n",
    "tracker.BoD(pd.Timestamp('2022-06-01'))\n",
    "tracker.validate()\n",
    "tracker.dividends_df"
   ]
  },
  {
   "cell_type": "markdown",
   "metadata": {},
   "source": [
    "But if we sell a share within 60 days of buying the second share, then its dividends are not Qualified:"
   ]
  },
  {
   "cell_type": "code",
   "execution_count": 40,
   "metadata": {},
   "outputs": [
    {
     "data": {
      "text/html": [
       "<div>\n",
       "<style scoped>\n",
       "    .dataframe tbody tr th:only-of-type {\n",
       "        vertical-align: middle;\n",
       "    }\n",
       "\n",
       "    .dataframe tbody tr th {\n",
       "        vertical-align: top;\n",
       "    }\n",
       "\n",
       "    .dataframe thead th {\n",
       "        text-align: right;\n",
       "    }\n",
       "</style>\n",
       "<table border=\"1\" class=\"dataframe\">\n",
       "  <thead>\n",
       "    <tr style=\"text-align: right;\">\n",
       "      <th></th>\n",
       "      <th>Regular</th>\n",
       "      <th>Qualified</th>\n",
       "    </tr>\n",
       "  </thead>\n",
       "  <tbody>\n",
       "    <tr>\n",
       "      <th>2022-01-18</th>\n",
       "      <td>0.000000</td>\n",
       "      <td>0.199041</td>\n",
       "    </tr>\n",
       "    <tr>\n",
       "      <th>2022-02-08</th>\n",
       "      <td>0.000000</td>\n",
       "      <td>0.198933</td>\n",
       "    </tr>\n",
       "    <tr>\n",
       "      <th>2022-03-15</th>\n",
       "      <td>0.199014</td>\n",
       "      <td>0.199014</td>\n",
       "    </tr>\n",
       "    <tr>\n",
       "      <th>2022-04-12</th>\n",
       "      <td>0.199019</td>\n",
       "      <td>0.199019</td>\n",
       "    </tr>\n",
       "    <tr>\n",
       "      <th>2022-05-10</th>\n",
       "      <td>0.000000</td>\n",
       "      <td>0.199019</td>\n",
       "    </tr>\n",
       "    <tr>\n",
       "      <th>2022-06-14</th>\n",
       "      <td>0.000000</td>\n",
       "      <td>0.199003</td>\n",
       "    </tr>\n",
       "  </tbody>\n",
       "</table>\n",
       "</div>"
      ],
      "text/plain": [
       "             Regular  Qualified\n",
       "2022-01-18  0.000000   0.199041\n",
       "2022-02-08  0.000000   0.198933\n",
       "2022-03-15  0.199014   0.199014\n",
       "2022-04-12  0.199019   0.199019\n",
       "2022-05-10  0.000000   0.199019\n",
       "2022-06-14  0.000000   0.199003"
      ]
     },
     "execution_count": 40,
     "metadata": {},
     "output_type": "execute_result"
    }
   ],
   "source": [
    "tracker = DistributionTracker(distribution_data)\n",
    "start_date = pd.Timestamp('2022-01-05')\n",
    "tracker.buy(start_date, 'RA', shares=1, price=21)\n",
    "second_buy_date = start_date + pd.Timedelta(days=60)\n",
    "tracker.buy(second_buy_date, 'RA', shares=1, price=21)\n",
    "tracker.sell(second_buy_date + pd.Timedelta(days=60), 'RA', shares_to_sell=1, price=21)\n",
    "# Run the tracker until July 1, 2022\n",
    "tracker.BoD(pd.Timestamp('2022-07-01'))\n",
    "tracker.validate()\n",
    "tracker.dividends_df[['Regular', 'Qualified']]"
   ]
  },
  {
   "cell_type": "markdown",
   "metadata": {},
   "source": [
    "## Example 2.4\n",
    "Buy the day before a dividend; sell some number of days after.  Which dividends are qualified depends on the timing of dividends and the number of days we hold each time."
   ]
  },
  {
   "cell_type": "code",
   "execution_count": 41,
   "metadata": {},
   "outputs": [
    {
     "name": "stdout",
     "output_type": "stream",
     "text": [
      "\n",
      "Summary cashflows for tax calculations:\n",
      " Regular  Qualified  ShortTerm\n",
      " 1.59203    0.59699        5.5\n"
     ]
    }
   ],
   "source": [
    "tracker = DistributionTracker(distribution_data)\n",
    "start_date = pd.Timestamp('2022-01-14')\n",
    "# Get 10 months of ex-dividend dates for RA\n",
    "ex_dates = distribution_data.loc[pd.IndexSlice['RA',\n",
    "    (start_date):(start_date+pd.DateOffset(months=10)), :]].index.get_level_values(1)\n",
    "for date in ex_dates:\n",
    "    # Buy the day before each ex-date, so we get the dividend; then sell some days after.\n",
    "    buy_date = date + pd.Timedelta(days=-1)\n",
    "    #print(f'Buying on {buy_date.date()}')\n",
    "    tracker.buy(buy_date, 'RA', shares=1, price=20)\n",
    "    tracker.sell(date + pd.Timedelta(days=14), 'RA', 1, price=20.5)\n",
    "    tracker.validate()\n",
    "print('\\nSummary cashflows for tax calculations:\\n'\n",
    "      + pd.DataFrame(tracker.taxable_cashflows_df.sum()).T.to_string(index=False))"
   ]
  },
  {
   "cell_type": "markdown",
   "metadata": {},
   "source": [
    "Did we get it right?  We'll add the calculation of holding days corresponding to each dividend:"
   ]
  },
  {
   "cell_type": "code",
   "execution_count": 42,
   "metadata": {},
   "outputs": [
    {
     "data": {
      "text/html": [
       "<div>\n",
       "<style scoped>\n",
       "    .dataframe tbody tr th:only-of-type {\n",
       "        vertical-align: middle;\n",
       "    }\n",
       "\n",
       "    .dataframe tbody tr th {\n",
       "        vertical-align: top;\n",
       "    }\n",
       "\n",
       "    .dataframe thead th {\n",
       "        text-align: right;\n",
       "    }\n",
       "</style>\n",
       "<table border=\"1\" class=\"dataframe\">\n",
       "  <thead>\n",
       "    <tr style=\"text-align: right;\">\n",
       "      <th></th>\n",
       "      <th>Regular</th>\n",
       "      <th>Qualified</th>\n",
       "      <th>HoldDays</th>\n",
       "    </tr>\n",
       "  </thead>\n",
       "  <tbody>\n",
       "    <tr>\n",
       "      <th>2022-01-18</th>\n",
       "      <td>0.199041</td>\n",
       "      <td>0.000000</td>\n",
       "      <td>35.0</td>\n",
       "    </tr>\n",
       "    <tr>\n",
       "      <th>2022-02-08</th>\n",
       "      <td>0.198933</td>\n",
       "      <td>0.000000</td>\n",
       "      <td>45.0</td>\n",
       "    </tr>\n",
       "    <tr>\n",
       "      <th>2022-03-15</th>\n",
       "      <td>0.000000</td>\n",
       "      <td>0.199014</td>\n",
       "      <td>61.0</td>\n",
       "    </tr>\n",
       "    <tr>\n",
       "      <th>2022-04-12</th>\n",
       "      <td>0.199019</td>\n",
       "      <td>0.000000</td>\n",
       "      <td>57.0</td>\n",
       "    </tr>\n",
       "    <tr>\n",
       "      <th>2022-05-10</th>\n",
       "      <td>0.199019</td>\n",
       "      <td>0.000000</td>\n",
       "      <td>60.0</td>\n",
       "    </tr>\n",
       "    <tr>\n",
       "      <th>2022-06-14</th>\n",
       "      <td>0.000000</td>\n",
       "      <td>0.199003</td>\n",
       "      <td>61.0</td>\n",
       "    </tr>\n",
       "    <tr>\n",
       "      <th>2022-07-12</th>\n",
       "      <td>0.198963</td>\n",
       "      <td>0.000000</td>\n",
       "      <td>57.0</td>\n",
       "    </tr>\n",
       "    <tr>\n",
       "      <th>2022-08-09</th>\n",
       "      <td>0.199016</td>\n",
       "      <td>0.000000</td>\n",
       "      <td>60.0</td>\n",
       "    </tr>\n",
       "    <tr>\n",
       "      <th>2022-09-13</th>\n",
       "      <td>0.000000</td>\n",
       "      <td>0.198973</td>\n",
       "      <td>61.0</td>\n",
       "    </tr>\n",
       "    <tr>\n",
       "      <th>2022-10-11</th>\n",
       "      <td>0.199064</td>\n",
       "      <td>0.000000</td>\n",
       "      <td>57.0</td>\n",
       "    </tr>\n",
       "    <tr>\n",
       "      <th>2022-11-08</th>\n",
       "      <td>0.198975</td>\n",
       "      <td>0.000000</td>\n",
       "      <td>45.0</td>\n",
       "    </tr>\n",
       "  </tbody>\n",
       "</table>\n",
       "</div>"
      ],
      "text/plain": [
       "             Regular  Qualified  HoldDays\n",
       "2022-01-18  0.199041   0.000000      35.0\n",
       "2022-02-08  0.198933   0.000000      45.0\n",
       "2022-03-15  0.000000   0.199014      61.0\n",
       "2022-04-12  0.199019   0.000000      57.0\n",
       "2022-05-10  0.199019   0.000000      60.0\n",
       "2022-06-14  0.000000   0.199003      61.0\n",
       "2022-07-12  0.198963   0.000000      57.0\n",
       "2022-08-09  0.199016   0.000000      60.0\n",
       "2022-09-13  0.000000   0.198973      61.0\n",
       "2022-10-11  0.199064   0.000000      57.0\n",
       "2022-11-08  0.198975   0.000000      45.0"
      ]
     },
     "execution_count": 42,
     "metadata": {},
     "output_type": "execute_result"
    }
   ],
   "source": [
    "period = 60\n",
    "df = tracker.dividends_df.copy()\n",
    "df['HoldDays'] = .0\n",
    "for date in df.index:\n",
    "    df.loc[date, 'HoldDays'] = tracker.holdings.shift() \\\n",
    "        .loc[(date - pd.Timedelta(days=period)):(date + pd.Timedelta(days=period)),\n",
    "             \"RA\"].nlargest(period+1).sum()\n",
    "df"
   ]
  },
  {
   "cell_type": "markdown",
   "metadata": {},
   "source": [
    "## Example 2.5\n",
    "We'll create a synthetic stock `ABC` that pays a preferred dividend that is 2/3 qualified and \"due to periods totaling more than 366 days,\" which means that if held more than 90 days during the 181 days centered on the ex-date then the qualifiable portion becomes qualified."
   ]
  },
  {
   "cell_type": "code",
   "execution_count": 43,
   "metadata": {},
   "outputs": [
    {
     "name": "stdout",
     "output_type": "stream",
     "text": [
      "Preferred qualified_date: 2025-04-03 00:00:00\n"
     ]
    },
    {
     "data": {
      "text/html": [
       "<div>\n",
       "<style scoped>\n",
       "    .dataframe tbody tr th:only-of-type {\n",
       "        vertical-align: middle;\n",
       "    }\n",
       "\n",
       "    .dataframe tbody tr th {\n",
       "        vertical-align: top;\n",
       "    }\n",
       "\n",
       "    .dataframe thead th {\n",
       "        text-align: right;\n",
       "    }\n",
       "</style>\n",
       "<table border=\"1\" class=\"dataframe\">\n",
       "  <thead>\n",
       "    <tr style=\"text-align: right;\">\n",
       "      <th></th>\n",
       "      <th></th>\n",
       "      <th></th>\n",
       "      <th>Distribution</th>\n",
       "    </tr>\n",
       "    <tr>\n",
       "      <th>Ticker</th>\n",
       "      <th>Date</th>\n",
       "      <th>Type</th>\n",
       "      <th></th>\n",
       "    </tr>\n",
       "  </thead>\n",
       "  <tbody>\n",
       "    <tr>\n",
       "      <th rowspan=\"2\" valign=\"top\">ABC</th>\n",
       "      <th rowspan=\"2\" valign=\"top\">2025-02-01</th>\n",
       "      <th>P</th>\n",
       "      <td>0.10</td>\n",
       "    </tr>\n",
       "    <tr>\n",
       "      <th>N</th>\n",
       "      <td>0.05</td>\n",
       "    </tr>\n",
       "  </tbody>\n",
       "</table>\n",
       "</div>"
      ],
      "text/plain": [
       "                        Distribution\n",
       "Ticker Date       Type              \n",
       "ABC    2025-02-01 P             0.10\n",
       "                  N             0.05"
      ]
     },
     "execution_count": 43,
     "metadata": {},
     "output_type": "execute_result"
    }
   ],
   "source": [
    "# We'll buy stock on Jan 2, 2025.\n",
    "start_date = pd.Timestamp('2025-01-02')\n",
    "qualified_date = start_date + pd.Timedelta(days=91)\n",
    "print(f'Preferred qualified_date: {qualified_date}')\n",
    "syn_data = {\n",
    "    'Ticker': ['ABC', 'ABC'],\n",
    "    'Date': ['2025-02-01', '2025-02-01'],\n",
    "    'Type': ['P', 'N'],\n",
    "    'Distribution': [0.10, 0.05]\n",
    "}\n",
    "test_data = pd.DataFrame(syn_data)\n",
    "test_data['Date'] = pd.to_datetime(test_data['Date'])\n",
    "test_data.set_index(['Ticker', 'Date', 'Type'], inplace=True)\n",
    "test_data"
   ]
  },
  {
   "cell_type": "code",
   "execution_count": 44,
   "metadata": {},
   "outputs": [
    {
     "name": "stdout",
     "output_type": "stream",
     "text": [
      "Dividends as of 2025-04-02, just before qualification date:\n"
     ]
    },
    {
     "data": {
      "text/html": [
       "<div>\n",
       "<style scoped>\n",
       "    .dataframe tbody tr th:only-of-type {\n",
       "        vertical-align: middle;\n",
       "    }\n",
       "\n",
       "    .dataframe tbody tr th {\n",
       "        vertical-align: top;\n",
       "    }\n",
       "\n",
       "    .dataframe thead th {\n",
       "        text-align: right;\n",
       "    }\n",
       "</style>\n",
       "<table border=\"1\" class=\"dataframe\">\n",
       "  <thead>\n",
       "    <tr style=\"text-align: right;\">\n",
       "      <th></th>\n",
       "      <th>Regular</th>\n",
       "    </tr>\n",
       "  </thead>\n",
       "  <tbody>\n",
       "    <tr>\n",
       "      <th>2025-02-01</th>\n",
       "      <td>0.15</td>\n",
       "    </tr>\n",
       "  </tbody>\n",
       "</table>\n",
       "</div>"
      ],
      "text/plain": [
       "            Regular\n",
       "2025-02-01     0.15"
      ]
     },
     "metadata": {},
     "output_type": "display_data"
    },
    {
     "name": "stdout",
     "output_type": "stream",
     "text": [
      "Dividends on qualification date:\n"
     ]
    },
    {
     "data": {
      "text/html": [
       "<div>\n",
       "<style scoped>\n",
       "    .dataframe tbody tr th:only-of-type {\n",
       "        vertical-align: middle;\n",
       "    }\n",
       "\n",
       "    .dataframe tbody tr th {\n",
       "        vertical-align: top;\n",
       "    }\n",
       "\n",
       "    .dataframe thead th {\n",
       "        text-align: right;\n",
       "    }\n",
       "</style>\n",
       "<table border=\"1\" class=\"dataframe\">\n",
       "  <thead>\n",
       "    <tr style=\"text-align: right;\">\n",
       "      <th></th>\n",
       "      <th>Regular</th>\n",
       "      <th>Qualified</th>\n",
       "    </tr>\n",
       "  </thead>\n",
       "  <tbody>\n",
       "    <tr>\n",
       "      <th>2025-02-01</th>\n",
       "      <td>0.05</td>\n",
       "      <td>0.1</td>\n",
       "    </tr>\n",
       "  </tbody>\n",
       "</table>\n",
       "</div>"
      ],
      "text/plain": [
       "            Regular  Qualified\n",
       "2025-02-01     0.05        0.1"
      ]
     },
     "metadata": {},
     "output_type": "display_data"
    }
   ],
   "source": [
    "tracker = DistributionTracker(test_data)\n",
    "tracker.buy(start_date, 'ABC', shares=1, price=10)\n",
    "pre_qualification_date = qualified_date - pd.Timedelta(days=1)\n",
    "tracker.BoD(pre_qualification_date)\n",
    "print(f'Dividends as of {pre_qualification_date.date()}, just before qualification date:')\n",
    "display(tracker.dividends_df)\n",
    "tracker.BoD(qualified_date)\n",
    "tracker.validate()\n",
    "print('Dividends on qualification date:')\n",
    "display(tracker.dividends_df)"
   ]
  },
  {
   "cell_type": "markdown",
   "metadata": {},
   "source": [
    "## Example 2.6\n",
    "We'll reproduce the example [here](https://www.fidelity.com/tax-information/tax-topics/qualified-dividends):\n",
    "\n",
    "You purchased 10,000 shares of XYZ fund on April 27 of the tax year. You sold 2,000 of those shares on June 15, but continue to hold (unhedged at all times) the remaining 8,000 shares. The ex-dividend date for XYZ fund was May 2.  A dividend of $0.18 per share was paid but only 50% of that dividend ($0.09 per share) was reported as a qualified dividend.\n",
    "\n",
    "Therefore, during the 121-day window, you held 2,000 shares for 49 days (from April 28 through June 15) and 8,000 shares for at least 61 days (from April 28 through July 1).\n",
    "\n",
    "The dividend income from the 2,000 shares held 49 days would not be qualified dividend income. The dividend income from the 8,000 shares held at least 61 days should be qualified dividend income, but only half of the dividend can be qualified so only $720 of dividends end up qualified for tax purposes."
   ]
  },
  {
   "cell_type": "code",
   "execution_count": 45,
   "metadata": {},
   "outputs": [
    {
     "data": {
      "text/html": [
       "<div>\n",
       "<style scoped>\n",
       "    .dataframe tbody tr th:only-of-type {\n",
       "        vertical-align: middle;\n",
       "    }\n",
       "\n",
       "    .dataframe tbody tr th {\n",
       "        vertical-align: top;\n",
       "    }\n",
       "\n",
       "    .dataframe thead th {\n",
       "        text-align: right;\n",
       "    }\n",
       "</style>\n",
       "<table border=\"1\" class=\"dataframe\">\n",
       "  <thead>\n",
       "    <tr style=\"text-align: right;\">\n",
       "      <th></th>\n",
       "      <th>Regular</th>\n",
       "      <th>Qualified</th>\n",
       "    </tr>\n",
       "  </thead>\n",
       "  <tbody>\n",
       "    <tr>\n",
       "      <th>2025-05-02</th>\n",
       "      <td>1080.0</td>\n",
       "      <td>720.0</td>\n",
       "    </tr>\n",
       "  </tbody>\n",
       "</table>\n",
       "</div>"
      ],
      "text/plain": [
       "            Regular  Qualified\n",
       "2025-05-02   1080.0      720.0"
      ]
     },
     "metadata": {},
     "output_type": "display_data"
    }
   ],
   "source": [
    "tracker = DistributionTracker(None)\n",
    "tracker.trade(pd.Timestamp('2025-04-27'), 'XYZ', 10_000, price=1)\n",
    "tracker.receive_distribution(pd.Timestamp('2025-05-02'), 'XYZ', 0.09, 'D')\n",
    "tracker.receive_distribution(pd.Timestamp('2025-05-02'), 'XYZ', 0.09, 'N')\n",
    "#display(tracker.Dividends)\n",
    "tracker.trade(pd.Timestamp('2025-06-15'), 'XYZ', -2_000, price=1)\n",
    "tracker.BoD(pd.Timestamp('2025-07-01'))\n",
    "display(tracker.dividends_df)"
   ]
  },
  {
   "cell_type": "markdown",
   "metadata": {},
   "source": [
    "## Example 2.7\n",
    "Complete test coverage by passing capital gains distributions and return of capital."
   ]
  },
  {
   "cell_type": "code",
   "execution_count": 46,
   "metadata": {},
   "outputs": [
    {
     "data": {
      "text/html": [
       "<div>\n",
       "<style scoped>\n",
       "    .dataframe tbody tr th:only-of-type {\n",
       "        vertical-align: middle;\n",
       "    }\n",
       "\n",
       "    .dataframe tbody tr th {\n",
       "        vertical-align: top;\n",
       "    }\n",
       "\n",
       "    .dataframe thead th {\n",
       "        text-align: right;\n",
       "    }\n",
       "</style>\n",
       "<table border=\"1\" class=\"dataframe\">\n",
       "  <thead>\n",
       "    <tr style=\"text-align: right;\">\n",
       "      <th></th>\n",
       "      <th>Exempt</th>\n",
       "      <th>ShortTerm</th>\n",
       "      <th>LongTerm</th>\n",
       "    </tr>\n",
       "  </thead>\n",
       "  <tbody>\n",
       "    <tr>\n",
       "      <th>2025-02-01</th>\n",
       "      <td>0.03</td>\n",
       "      <td>0.05</td>\n",
       "      <td>0.1</td>\n",
       "    </tr>\n",
       "  </tbody>\n",
       "</table>\n",
       "</div>"
      ],
      "text/plain": [
       "            Exempt  ShortTerm  LongTerm\n",
       "2025-02-01    0.03       0.05       0.1"
      ]
     },
     "execution_count": 46,
     "metadata": {},
     "output_type": "execute_result"
    }
   ],
   "source": [
    "start_date = pd.Timestamp('2025-01-02')\n",
    "syn_data = {\n",
    "    'Ticker': ['ABC', 'ABC', 'ABC'],\n",
    "    'Date': ['2025-02-01', '2025-02-01', '2025-02-01'],\n",
    "    'Type': ['L', 'S', 'R'],\n",
    "    'Distribution': [0.10, 0.05, 0.03]\n",
    "}\n",
    "test_data = pd.DataFrame(syn_data)\n",
    "test_data['Date'] = pd.to_datetime(test_data['Date'])\n",
    "test_data.set_index(['Ticker', 'Date', 'Type'], inplace=True)\n",
    "tracker = DistributionTracker(test_data)\n",
    "tracker.buy(start_date, 'ABC', shares=1, price=10)\n",
    "after_div_date = start_date + pd.DateOffset(months=1)\n",
    "tracker.BoD(after_div_date)\n",
    "tracker.taxable_cashflows_df"
   ]
  },
  {
   "cell_type": "markdown",
   "metadata": {},
   "source": [
    "# 3. PNL Tracker\n",
    "`PNLtracker` is a `DistributionTracker` that adds a record of daily P&L and NAV.  To do this it requires daily price data in the form of a DataFrame structured as follows:\n",
    "* Rows are MultiIndexed by [`Ticker`, `Date`]\n",
    "* Column `Px` is the split-adjusted closing price.\n",
    "* Optional column `AdjPx` is a total-return series that incorporates distributions.  If provided it will be used to error-check calculations.\n",
    "\n",
    "(Formula for `AdjPx[t] = AdjPx[t-1] * (Px[t] + Distributions[t]) / Px[t-1]`)\n",
    "\n",
    "The price data also allow us to call `trade()` without specifying a price, in which case the tracker will assume that the trades occurred at the closing price on the date indicated.\n",
    "\n",
    "Following is sample price data:"
   ]
  },
  {
   "cell_type": "code",
   "execution_count": 47,
   "metadata": {},
   "outputs": [
    {
     "data": {
      "text/html": [
       "<div>\n",
       "<style scoped>\n",
       "    .dataframe tbody tr th:only-of-type {\n",
       "        vertical-align: middle;\n",
       "    }\n",
       "\n",
       "    .dataframe tbody tr th {\n",
       "        vertical-align: top;\n",
       "    }\n",
       "\n",
       "    .dataframe thead th {\n",
       "        text-align: right;\n",
       "    }\n",
       "</style>\n",
       "<table border=\"1\" class=\"dataframe\">\n",
       "  <thead>\n",
       "    <tr style=\"text-align: right;\">\n",
       "      <th></th>\n",
       "      <th></th>\n",
       "      <th>Px</th>\n",
       "      <th>AdjPx</th>\n",
       "    </tr>\n",
       "    <tr>\n",
       "      <th>Ticker</th>\n",
       "      <th>Date</th>\n",
       "      <th></th>\n",
       "      <th></th>\n",
       "    </tr>\n",
       "  </thead>\n",
       "  <tbody>\n",
       "    <tr>\n",
       "      <th rowspan=\"5\" valign=\"top\">NEA</th>\n",
       "      <th>2022-01-03</th>\n",
       "      <td>15.54</td>\n",
       "      <td>16.2702</td>\n",
       "    </tr>\n",
       "    <tr>\n",
       "      <th>2022-01-04</th>\n",
       "      <td>15.47</td>\n",
       "      <td>16.1969</td>\n",
       "    </tr>\n",
       "    <tr>\n",
       "      <th>2022-01-05</th>\n",
       "      <td>15.17</td>\n",
       "      <td>15.8828</td>\n",
       "    </tr>\n",
       "    <tr>\n",
       "      <th>2022-01-06</th>\n",
       "      <td>14.99</td>\n",
       "      <td>15.6943</td>\n",
       "    </tr>\n",
       "    <tr>\n",
       "      <th>2022-01-07</th>\n",
       "      <td>15.09</td>\n",
       "      <td>15.7990</td>\n",
       "    </tr>\n",
       "  </tbody>\n",
       "</table>\n",
       "</div>"
      ],
      "text/plain": [
       "                      Px    AdjPx\n",
       "Ticker Date                      \n",
       "NEA    2022-01-03  15.54  16.2702\n",
       "       2022-01-04  15.47  16.1969\n",
       "       2022-01-05  15.17  15.8828\n",
       "       2022-01-06  14.99  15.6943\n",
       "       2022-01-07  15.09  15.7990"
      ]
     },
     "metadata": {},
     "output_type": "display_data"
    }
   ],
   "source": [
    "import pandas as pd\n",
    "price_data = pd.read_csv(r'tests/PriceData.csv',\n",
    "            index_col=[0, 1], parse_dates=[1]).sort_index()\n",
    "display(price_data[:5])"
   ]
  },
  {
   "cell_type": "markdown",
   "metadata": {},
   "source": [
    "## Example 3.1\n",
    "Hold `RA` for one year.  Dividends will be qualified and gains will be long-term."
   ]
  },
  {
   "cell_type": "code",
   "execution_count": 48,
   "metadata": {},
   "outputs": [
    {
     "data": {
      "text/html": [
       "<div>\n",
       "<style scoped>\n",
       "    .dataframe tbody tr th:only-of-type {\n",
       "        vertical-align: middle;\n",
       "    }\n",
       "\n",
       "    .dataframe tbody tr th {\n",
       "        vertical-align: top;\n",
       "    }\n",
       "\n",
       "    .dataframe thead th {\n",
       "        text-align: right;\n",
       "    }\n",
       "</style>\n",
       "<table border=\"1\" class=\"dataframe\">\n",
       "  <thead>\n",
       "    <tr style=\"text-align: right;\">\n",
       "      <th></th>\n",
       "      <th>2022-01-18</th>\n",
       "      <th>2022-02-08</th>\n",
       "      <th>2022-03-15</th>\n",
       "      <th>2022-04-12</th>\n",
       "      <th>2022-05-10</th>\n",
       "      <th>2022-06-14</th>\n",
       "      <th>2022-07-12</th>\n",
       "      <th>2022-08-09</th>\n",
       "      <th>2022-09-13</th>\n",
       "      <th>2022-10-11</th>\n",
       "      <th>2022-11-08</th>\n",
       "      <th>2022-12-13</th>\n",
       "    </tr>\n",
       "  </thead>\n",
       "  <tbody>\n",
       "    <tr>\n",
       "      <th>Qualified</th>\n",
       "      <td>9.388737</td>\n",
       "      <td>9.383619</td>\n",
       "      <td>9.387466</td>\n",
       "      <td>9.387675</td>\n",
       "      <td>9.387667</td>\n",
       "      <td>9.38694</td>\n",
       "      <td>9.385065</td>\n",
       "      <td>9.387546</td>\n",
       "      <td>9.385519</td>\n",
       "      <td>9.389825</td>\n",
       "      <td>9.385633</td>\n",
       "      <td>9.388311</td>\n",
       "    </tr>\n",
       "  </tbody>\n",
       "</table>\n",
       "</div>"
      ],
      "text/plain": [
       "           2022-01-18  2022-02-08  2022-03-15  2022-04-12  2022-05-10  \\\n",
       "Qualified    9.388737    9.383619    9.387466    9.387675    9.387667   \n",
       "\n",
       "           2022-06-14  2022-07-12  2022-08-09  2022-09-13  2022-10-11  \\\n",
       "Qualified     9.38694    9.385065    9.387546    9.385519    9.389825   \n",
       "\n",
       "           2022-11-08  2022-12-13  \n",
       "Qualified    9.385633    9.388311  "
      ]
     },
     "metadata": {},
     "output_type": "display_data"
    },
    {
     "data": {
      "text/html": [
       "<div>\n",
       "<style scoped>\n",
       "    .dataframe tbody tr th:only-of-type {\n",
       "        vertical-align: middle;\n",
       "    }\n",
       "\n",
       "    .dataframe tbody tr th {\n",
       "        vertical-align: top;\n",
       "    }\n",
       "\n",
       "    .dataframe thead th {\n",
       "        text-align: right;\n",
       "    }\n",
       "</style>\n",
       "<table border=\"1\" class=\"dataframe\">\n",
       "  <thead>\n",
       "    <tr style=\"text-align: right;\">\n",
       "      <th></th>\n",
       "      <th>ShortTerm</th>\n",
       "      <th>LongTerm</th>\n",
       "    </tr>\n",
       "  </thead>\n",
       "  <tbody>\n",
       "    <tr>\n",
       "      <th>2023-01-07</th>\n",
       "      <td>0</td>\n",
       "      <td>-203.773585</td>\n",
       "    </tr>\n",
       "  </tbody>\n",
       "</table>\n",
       "</div>"
      ],
      "text/plain": [
       "            ShortTerm    LongTerm\n",
       "2023-01-07          0 -203.773585"
      ]
     },
     "metadata": {},
     "output_type": "display_data"
    },
    {
     "name": "stdout",
     "output_type": "stream",
     "text": [
      "PNL = Dividends + Capital gains:\n",
      "-91.13 = 112.64 + -203.77\n"
     ]
    }
   ],
   "source": [
    "import pandas as pd\n",
    "from tax_tracker import PNLtracker\n",
    "price_data = pd.read_csv(r'tests/PriceData.csv',\n",
    "            index_col=[0, 1], parse_dates=[1]).sort_index()\n",
    "distribution_data = pd.read_csv(r'tests/DistributionData.csv',\n",
    "            index_col=[0, 1, 2], parse_dates=[1]).sort_index()\n",
    "\n",
    "tracker = PNLtracker(price_data, distribution_data)\n",
    "start_date = pd.Timestamp('2022-01-05')\n",
    "end_date = start_date + pd.DateOffset(days=367)\n",
    "tracker.BoD(start_date)\n",
    "tracker.trade_dollars(start_date, 'RA', dollars=1_000)\n",
    "tracker.BoD(end_date)\n",
    "tracker.validate()\n",
    "tracker.close(end_date, 'RA')\n",
    "tracker.EoD(end_date)\n",
    "tracker.validate()\n",
    "display(divs := tracker.dividends_df.T)\n",
    "display(gains := tracker.capital_gains_df)\n",
    "pnl = tracker.daily_pnl_df\n",
    "print('PNL = Dividends + Capital gains:'\n",
    "      f'\\n{pnl.sum().PNL:.2f} = {divs.sum().sum():.2f} + {gains.sum().sum():.2f}')"
   ]
  },
  {
   "cell_type": "markdown",
   "metadata": {},
   "source": [
    "## Example 3.2\n",
    "\n",
    "Let's repeat the buy-before-dividend strategy from Example 2.4, then summarize is performance for tax analysis."
   ]
  },
  {
   "cell_type": "code",
   "execution_count": 49,
   "metadata": {},
   "outputs": [
    {
     "data": {
      "text/html": [
       "<div>\n",
       "<style scoped>\n",
       "    .dataframe tbody tr th:only-of-type {\n",
       "        vertical-align: middle;\n",
       "    }\n",
       "\n",
       "    .dataframe tbody tr th {\n",
       "        vertical-align: top;\n",
       "    }\n",
       "\n",
       "    .dataframe thead th {\n",
       "        text-align: right;\n",
       "    }\n",
       "</style>\n",
       "<table border=\"1\" class=\"dataframe\">\n",
       "  <thead>\n",
       "    <tr style=\"text-align: right;\">\n",
       "      <th></th>\n",
       "      <th>Regular</th>\n",
       "      <th>Qualified</th>\n",
       "      <th>ShortTerm</th>\n",
       "    </tr>\n",
       "  </thead>\n",
       "  <tbody>\n",
       "    <tr>\n",
       "      <th>2022-01-18</th>\n",
       "      <td>0.199041</td>\n",
       "      <td>0.000000</td>\n",
       "      <td>0.00</td>\n",
       "    </tr>\n",
       "    <tr>\n",
       "      <th>2022-02-08</th>\n",
       "      <td>0.198933</td>\n",
       "      <td>0.000000</td>\n",
       "      <td>0.00</td>\n",
       "    </tr>\n",
       "    <tr>\n",
       "      <th>2022-03-15</th>\n",
       "      <td>0.000000</td>\n",
       "      <td>0.199014</td>\n",
       "      <td>0.00</td>\n",
       "    </tr>\n",
       "    <tr>\n",
       "      <th>2022-04-12</th>\n",
       "      <td>0.199019</td>\n",
       "      <td>0.000000</td>\n",
       "      <td>0.00</td>\n",
       "    </tr>\n",
       "    <tr>\n",
       "      <th>2022-05-10</th>\n",
       "      <td>0.199019</td>\n",
       "      <td>0.000000</td>\n",
       "      <td>0.00</td>\n",
       "    </tr>\n",
       "    <tr>\n",
       "      <th>2022-06-14</th>\n",
       "      <td>0.000000</td>\n",
       "      <td>0.199003</td>\n",
       "      <td>0.00</td>\n",
       "    </tr>\n",
       "    <tr>\n",
       "      <th>2022-07-12</th>\n",
       "      <td>0.198963</td>\n",
       "      <td>0.000000</td>\n",
       "      <td>0.00</td>\n",
       "    </tr>\n",
       "    <tr>\n",
       "      <th>2022-08-09</th>\n",
       "      <td>0.199016</td>\n",
       "      <td>0.000000</td>\n",
       "      <td>0.00</td>\n",
       "    </tr>\n",
       "    <tr>\n",
       "      <th>2022-09-13</th>\n",
       "      <td>0.198973</td>\n",
       "      <td>0.000000</td>\n",
       "      <td>0.00</td>\n",
       "    </tr>\n",
       "    <tr>\n",
       "      <th>2022-09-27</th>\n",
       "      <td>0.000000</td>\n",
       "      <td>0.000000</td>\n",
       "      <td>-7.42</td>\n",
       "    </tr>\n",
       "  </tbody>\n",
       "</table>\n",
       "</div>"
      ],
      "text/plain": [
       "             Regular  Qualified  ShortTerm\n",
       "2022-01-18  0.199041   0.000000       0.00\n",
       "2022-02-08  0.198933   0.000000       0.00\n",
       "2022-03-15  0.000000   0.199014       0.00\n",
       "2022-04-12  0.199019   0.000000       0.00\n",
       "2022-05-10  0.199019   0.000000       0.00\n",
       "2022-06-14  0.000000   0.199003       0.00\n",
       "2022-07-12  0.198963   0.000000       0.00\n",
       "2022-08-09  0.199016   0.000000       0.00\n",
       "2022-09-13  0.198973   0.000000       0.00\n",
       "2022-09-27  0.000000   0.000000      -7.42"
      ]
     },
     "metadata": {},
     "output_type": "display_data"
    },
    {
     "name": "stdout",
     "output_type": "stream",
     "text": [
      "RA: 2022-01-17 1 @ $21.83 >> 2022-02-01 -1 @ $21.30 = $-0.53 ST (15 days) washed\n",
      "RA: 2022-02-07 1 @ $21.14 >> 2022-02-22 -1 @ $20.07 = $-1.60 ST (15+15 days) washed\n",
      "RA: 2022-03-14 1 @ $20.74 >> 2022-03-29 -1 @ $20.62 = $-1.72 ST (15+30 days) washed\n",
      "RA: 2022-04-11 1 @ $20.92 >> 2022-04-26 -1 @ $20.57 = $-2.07 ST (15+45 days) washed\n",
      "RA: 2022-05-09 1 @ $20.72 >> 2022-05-24 -1 @ $18.79 = $-4.00 ST (15+60 days) washed\n",
      "RA: 2022-06-13 1 @ $18.40 >> 2022-06-28 -1 @ $18.30 = $-4.10 ST (15+75 days) washed\n",
      "RA: 2022-07-11 1 @ $19.34 >> 2022-07-26 -1 @ $19.03 = $-4.41 ST (15+90 days) washed\n",
      "RA: 2022-08-08 1 @ $20.13 >> 2022-08-23 -1 @ $19.38 = $-5.16 ST (15+105 days) washed\n",
      "RA: 2022-09-12 1 @ $19.41 >> 2022-09-27 -1 @ $17.15 = $-7.42 ST (15+120 days)\n",
      "\n",
      "Summary cashflows for tax calculations:\n",
      " Regular  Qualified  ShortTerm\n",
      "1.392964   0.398017      -7.42\n"
     ]
    }
   ],
   "source": [
    "tracker = PNLtracker(price_data, distribution_data)\n",
    "start_date = pd.Timestamp('2022-01-14')\n",
    "# Get the next 8 months of ex-dividend dates for RA\n",
    "ex_dates = distribution_data.loc[pd.IndexSlice['RA',\n",
    "        (start_date):(start_date+pd.DateOffset(months=8)), :]].index.get_level_values(1)\n",
    "for date in ex_dates:\n",
    "    # Buy the day before each ex-date, so we get the dividend\n",
    "    buy_date = date + pd.Timedelta(days=-1)\n",
    "    tracker.buy(buy_date, 'RA', shares=1)\n",
    "    tracker.sell(date + pd.Timedelta(days=14), 'RA', 1)\n",
    "taxable_cashflows = tracker.taxable_cashflows_df\n",
    "display(taxable_cashflows)\n",
    "tracker.validate()\n",
    "print(tracker.closed_lots_str)\n",
    "print('\\nSummary cashflows for tax calculations:\\n'\n",
    "      + pd.DataFrame(taxable_cashflows.sum()).T.to_string(index=False))"
   ]
  }
 ],
 "metadata": {
  "kernelspec": {
   "display_name": "Python 3",
   "language": "python",
   "name": "python3"
  },
  "language_info": {
   "codemirror_mode": {
    "name": "ipython",
    "version": 3
   },
   "file_extension": ".py",
   "mimetype": "text/x-python",
   "name": "python",
   "nbconvert_exporter": "python",
   "pygments_lexer": "ipython3",
   "version": "3.12.9"
  }
 },
 "nbformat": 4,
 "nbformat_minor": 2
}
